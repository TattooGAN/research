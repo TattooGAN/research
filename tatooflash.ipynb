{
 "cells": [
  {
   "cell_type": "code",
   "execution_count": 6,
   "metadata": {},
   "outputs": [],
   "source": [
    "import os\n",
    "\n",
    "\n",
    "import instaloader\n",
    "import yadisk\n",
    "\n",
    "from decouple import config\n",
    "from tqdm.notebook import tqdm\n",
    "from tqdm import trange"
   ]
  },
  {
   "cell_type": "code",
   "execution_count": 9,
   "metadata": {},
   "outputs": [],
   "source": [
    "L = instaloader.Instaloader(save_metadata=False, \n",
    "                            download_comments=False, \n",
    "                            download_geotags=False, \n",
    "                            download_videos=False, \n",
    "                            filename_pattern=\"/data/arfalaleev/tattooflash/{date_utc}_UTC_profile_{profile}\",\n",
    "                            quiet=True)\n",
    "L.login(config('U'), config('P'))\n",
    "hashtag = instaloader.Hashtag.from_name(L.context, 'tattooflash')"
   ]
  },
  {
   "cell_type": "code",
   "execution_count": 7,
   "metadata": {},
   "outputs": [],
   "source": [
    "API_KEY = config('KEY')\n",
    "y = yadisk.YaDisk(token=API_KEY)\n",
    "\n",
    "assert y.check_token()"
   ]
  },
  {
   "cell_type": "markdown",
   "metadata": {},
   "source": [
    "`profile.get_posts()` is a NodeIterator instance and supports state freezing. `hashtag.get_posts()` is a python generator and does not support freezing. :("
   ]
  },
  {
   "cell_type": "code",
   "execution_count": 24,
   "metadata": {},
   "outputs": [],
   "source": [
    "def save_photos_batch(post_iterable, n_photos, save_dir_name):\n",
    "    for i, post in tqdm(enumerate(post_iterable), \n",
    "                        desc='instagram images scrapping bar', \n",
    "                        total=n_photos,\n",
    "                        leave=True):\n",
    "        if i >= n_photos:\n",
    "            break\n",
    "        try:\n",
    "            L.download_post(post, target=save_dir_name)\n",
    "        except instaloader.exceptions.InstaloaderException as exc:\n",
    "            print(f'post download failed with {exc}')"
   ]
  },
  {
   "cell_type": "code",
   "execution_count": 25,
   "metadata": {},
   "outputs": [],
   "source": [
    "def upload_files_from_dir(src_path, dst_path, y):\n",
    "    try:\n",
    "        y.mkdir(dst_path)\n",
    "    except yadisk.exceptions.DirectoryExistsError:\n",
    "        pass\n",
    "    for filename in os.listdir(src_path):\n",
    "        try:\n",
    "            y.upload(os.path.join(src_path, filename), \n",
    "                     os.path.join(dst_path, filename))\n",
    "        except yadisk.exceptions.PathExistsError as e:\n",
    "            print(e)\n",
    "            "
   ]
  },
  {
   "cell_type": "code",
   "execution_count": 26,
   "metadata": {},
   "outputs": [],
   "source": [
    "def clear_dir(dir_path):\n",
    "    for filename in os.listdir(dir_path):\n",
    "        os.remove(os.path.join(dir_path, filename))"
   ]
  },
  {
   "cell_type": "code",
   "execution_count": 27,
   "metadata": {},
   "outputs": [],
   "source": [
    "hashtag_iterable = hashtag.get_all_posts()"
   ]
  },
  {
   "cell_type": "code",
   "execution_count": null,
   "metadata": {},
   "outputs": [
    {
     "data": {
      "application/vnd.jupyter.widget-view+json": {
       "model_id": "3bc57be261bc4826807c23bfcf664663",
       "version_major": 2,
       "version_minor": 0
      },
      "text/plain": [
       "HBox(children=(FloatProgress(value=0.0, max=10000.0), HTML(value='')))"
      ]
     },
     "metadata": {},
     "output_type": "display_data"
    },
    {
     "data": {
      "application/vnd.jupyter.widget-view+json": {
       "model_id": "ca4854e2e6f2459e85c12cf031132080",
       "version_major": 2,
       "version_minor": 0
      },
      "text/plain": [
       "HBox(children=(FloatProgress(value=0.0, description='instagram images scrapping bar', max=20.0, style=Progress…"
      ]
     },
     "metadata": {},
     "output_type": "display_data"
    },
    {
     "data": {
      "application/vnd.jupyter.widget-view+json": {
       "model_id": "b6765b4b4fb947ccb4fd69152f484b29",
       "version_major": 2,
       "version_minor": 0
      },
      "text/plain": [
       "HBox(children=(FloatProgress(value=0.0, description='instagram images scrapping bar', max=20.0, style=Progress…"
      ]
     },
     "metadata": {},
     "output_type": "display_data"
    },
    {
     "data": {
      "application/vnd.jupyter.widget-view+json": {
       "model_id": "3d4cc4e35bc442c9af6fe83847379b38",
       "version_major": 2,
       "version_minor": 0
      },
      "text/plain": [
       "HBox(children=(FloatProgress(value=0.0, description='instagram images scrapping bar', max=20.0, style=Progress…"
      ]
     },
     "metadata": {},
     "output_type": "display_data"
    },
    {
     "data": {
      "application/vnd.jupyter.widget-view+json": {
       "model_id": "ece2fe68c07d44b48716956919f34f69",
       "version_major": 2,
       "version_minor": 0
      },
      "text/plain": [
       "HBox(children=(FloatProgress(value=0.0, description='instagram images scrapping bar', max=20.0, style=Progress…"
      ]
     },
     "metadata": {},
     "output_type": "display_data"
    },
    {
     "data": {
      "application/vnd.jupyter.widget-view+json": {
       "model_id": "0265c23999e24717a9454e650989e6db",
       "version_major": 2,
       "version_minor": 0
      },
      "text/plain": [
       "HBox(children=(FloatProgress(value=0.0, description='instagram images scrapping bar', max=20.0, style=Progress…"
      ]
     },
     "metadata": {},
     "output_type": "display_data"
    },
    {
     "data": {
      "application/vnd.jupyter.widget-view+json": {
       "model_id": "d47abf87a2f74553a6c0a60387997686",
       "version_major": 2,
       "version_minor": 0
      },
      "text/plain": [
       "HBox(children=(FloatProgress(value=0.0, description='instagram images scrapping bar', max=20.0, style=Progress…"
      ]
     },
     "metadata": {},
     "output_type": "display_data"
    },
    {
     "data": {
      "application/vnd.jupyter.widget-view+json": {
       "model_id": "bbf68b7788dc4dc0a1faa4693faf432f",
       "version_major": 2,
       "version_minor": 0
      },
      "text/plain": [
       "HBox(children=(FloatProgress(value=0.0, description='instagram images scrapping bar', max=20.0, style=Progress…"
      ]
     },
     "metadata": {},
     "output_type": "display_data"
    },
    {
     "data": {
      "application/vnd.jupyter.widget-view+json": {
       "model_id": "7dffcb25b2e84d2fa38c14d8001aeff3",
       "version_major": 2,
       "version_minor": 0
      },
      "text/plain": [
       "HBox(children=(FloatProgress(value=0.0, description='instagram images scrapping bar', max=20.0, style=Progress…"
      ]
     },
     "metadata": {},
     "output_type": "display_data"
    },
    {
     "data": {
      "application/vnd.jupyter.widget-view+json": {
       "model_id": "976756b945d544f498c0b1d6dd396812",
       "version_major": 2,
       "version_minor": 0
      },
      "text/plain": [
       "HBox(children=(FloatProgress(value=0.0, description='instagram images scrapping bar', max=20.0, style=Progress…"
      ]
     },
     "metadata": {},
     "output_type": "display_data"
    },
    {
     "data": {
      "application/vnd.jupyter.widget-view+json": {
       "model_id": "527ebbf96b994802941cd3c59badc7c1",
       "version_major": 2,
       "version_minor": 0
      },
      "text/plain": [
       "HBox(children=(FloatProgress(value=0.0, description='instagram images scrapping bar', max=20.0, style=Progress…"
      ]
     },
     "metadata": {},
     "output_type": "display_data"
    },
    {
     "data": {
      "application/vnd.jupyter.widget-view+json": {
       "model_id": "145190858e5847f9a806bc2047e68c84",
       "version_major": 2,
       "version_minor": 0
      },
      "text/plain": [
       "HBox(children=(FloatProgress(value=0.0, description='instagram images scrapping bar', max=20.0, style=Progress…"
      ]
     },
     "metadata": {},
     "output_type": "display_data"
    },
    {
     "data": {
      "application/vnd.jupyter.widget-view+json": {
       "model_id": "194cccd28411439da93977668b935c3e",
       "version_major": 2,
       "version_minor": 0
      },
      "text/plain": [
       "HBox(children=(FloatProgress(value=0.0, description='instagram images scrapping bar', max=20.0, style=Progress…"
      ]
     },
     "metadata": {},
     "output_type": "display_data"
    },
    {
     "data": {
      "application/vnd.jupyter.widget-view+json": {
       "model_id": "3814499dcba749a19c5bfe65058cdd8e",
       "version_major": 2,
       "version_minor": 0
      },
      "text/plain": [
       "HBox(children=(FloatProgress(value=0.0, description='instagram images scrapping bar', max=20.0, style=Progress…"
      ]
     },
     "metadata": {},
     "output_type": "display_data"
    },
    {
     "data": {
      "application/vnd.jupyter.widget-view+json": {
       "model_id": "5a3a2e66602d40019fe4b45781e5fed7",
       "version_major": 2,
       "version_minor": 0
      },
      "text/plain": [
       "HBox(children=(FloatProgress(value=0.0, description='instagram images scrapping bar', max=20.0, style=Progress…"
      ]
     },
     "metadata": {},
     "output_type": "display_data"
    },
    {
     "data": {
      "application/vnd.jupyter.widget-view+json": {
       "model_id": "f33e371f7ea34e929bcd24c4820d5f77",
       "version_major": 2,
       "version_minor": 0
      },
      "text/plain": [
       "HBox(children=(FloatProgress(value=0.0, description='instagram images scrapping bar', max=20.0, style=Progress…"
      ]
     },
     "metadata": {},
     "output_type": "display_data"
    },
    {
     "data": {
      "application/vnd.jupyter.widget-view+json": {
       "model_id": "0b775440d70949f495ba25fadeb2dcce",
       "version_major": 2,
       "version_minor": 0
      },
      "text/plain": [
       "HBox(children=(FloatProgress(value=0.0, description='instagram images scrapping bar', max=20.0, style=Progress…"
      ]
     },
     "metadata": {},
     "output_type": "display_data"
    },
    {
     "data": {
      "application/vnd.jupyter.widget-view+json": {
       "model_id": "72649f857d4c4df98e2914f115e9cfd8",
       "version_major": 2,
       "version_minor": 0
      },
      "text/plain": [
       "HBox(children=(FloatProgress(value=0.0, description='instagram images scrapping bar', max=20.0, style=Progress…"
      ]
     },
     "metadata": {},
     "output_type": "display_data"
    },
    {
     "data": {
      "application/vnd.jupyter.widget-view+json": {
       "model_id": "1a9231e54f954a9a83573b6335eefb49",
       "version_major": 2,
       "version_minor": 0
      },
      "text/plain": [
       "HBox(children=(FloatProgress(value=0.0, description='instagram images scrapping bar', max=20.0, style=Progress…"
      ]
     },
     "metadata": {},
     "output_type": "display_data"
    },
    {
     "data": {
      "application/vnd.jupyter.widget-view+json": {
       "model_id": "f96b49f08729442788ce84a7f6e19fdd",
       "version_major": 2,
       "version_minor": 0
      },
      "text/plain": [
       "HBox(children=(FloatProgress(value=0.0, description='instagram images scrapping bar', max=20.0, style=Progress…"
      ]
     },
     "metadata": {},
     "output_type": "display_data"
    },
    {
     "data": {
      "application/vnd.jupyter.widget-view+json": {
       "model_id": "98c8bd4a5e6046969b9d821233f0653f",
       "version_major": 2,
       "version_minor": 0
      },
      "text/plain": [
       "HBox(children=(FloatProgress(value=0.0, description='instagram images scrapping bar', max=20.0, style=Progress…"
      ]
     },
     "metadata": {},
     "output_type": "display_data"
    },
    {
     "data": {
      "application/vnd.jupyter.widget-view+json": {
       "model_id": "2343a0cb73a04f788974b7a6a8aa9ca1",
       "version_major": 2,
       "version_minor": 0
      },
      "text/plain": [
       "HBox(children=(FloatProgress(value=0.0, description='instagram images scrapping bar', max=20.0, style=Progress…"
      ]
     },
     "metadata": {},
     "output_type": "display_data"
    },
    {
     "data": {
      "application/vnd.jupyter.widget-view+json": {
       "model_id": "b9bd98bec194496ab15459b31ea5096f",
       "version_major": 2,
       "version_minor": 0
      },
      "text/plain": [
       "HBox(children=(FloatProgress(value=0.0, description='instagram images scrapping bar', max=20.0, style=Progress…"
      ]
     },
     "metadata": {},
     "output_type": "display_data"
    },
    {
     "data": {
      "application/vnd.jupyter.widget-view+json": {
       "model_id": "9d8d248b74f04ede8e0509dd719a020d",
       "version_major": 2,
       "version_minor": 0
      },
      "text/plain": [
       "HBox(children=(FloatProgress(value=0.0, description='instagram images scrapping bar', max=20.0, style=Progress…"
      ]
     },
     "metadata": {},
     "output_type": "display_data"
    },
    {
     "data": {
      "application/vnd.jupyter.widget-view+json": {
       "model_id": "14573a69a8224540a9dff17e9c856a78",
       "version_major": 2,
       "version_minor": 0
      },
      "text/plain": [
       "HBox(children=(FloatProgress(value=0.0, description='instagram images scrapping bar', max=20.0, style=Progress…"
      ]
     },
     "metadata": {},
     "output_type": "display_data"
    },
    {
     "data": {
      "application/vnd.jupyter.widget-view+json": {
       "model_id": "ae65c17e565343caa29ff73a10d5abae",
       "version_major": 2,
       "version_minor": 0
      },
      "text/plain": [
       "HBox(children=(FloatProgress(value=0.0, description='instagram images scrapping bar', max=20.0, style=Progress…"
      ]
     },
     "metadata": {},
     "output_type": "display_data"
    },
    {
     "data": {
      "application/vnd.jupyter.widget-view+json": {
       "model_id": "2c4ed612b44f4af6a4b2faee9e507de7",
       "version_major": 2,
       "version_minor": 0
      },
      "text/plain": [
       "HBox(children=(FloatProgress(value=0.0, description='instagram images scrapping bar', max=20.0, style=Progress…"
      ]
     },
     "metadata": {},
     "output_type": "display_data"
    },
    {
     "data": {
      "application/vnd.jupyter.widget-view+json": {
       "model_id": "108f78872bdf47589cffadd11119beee",
       "version_major": 2,
       "version_minor": 0
      },
      "text/plain": [
       "HBox(children=(FloatProgress(value=0.0, description='instagram images scrapping bar', max=20.0, style=Progress…"
      ]
     },
     "metadata": {},
     "output_type": "display_data"
    },
    {
     "data": {
      "application/vnd.jupyter.widget-view+json": {
       "model_id": "dd9677881d374d828e7e485a6097fb1a",
       "version_major": 2,
       "version_minor": 0
      },
      "text/plain": [
       "HBox(children=(FloatProgress(value=0.0, description='instagram images scrapping bar', max=20.0, style=Progress…"
      ]
     },
     "metadata": {},
     "output_type": "display_data"
    },
    {
     "data": {
      "application/vnd.jupyter.widget-view+json": {
       "model_id": "e4ccc821cc1a4a7b96b4b9cd5b488308",
       "version_major": 2,
       "version_minor": 0
      },
      "text/plain": [
       "HBox(children=(FloatProgress(value=0.0, description='instagram images scrapping bar', max=20.0, style=Progress…"
      ]
     },
     "metadata": {},
     "output_type": "display_data"
    },
    {
     "data": {
      "application/vnd.jupyter.widget-view+json": {
       "model_id": "15951ad1fc844ebb97ba4089b25dca1a",
       "version_major": 2,
       "version_minor": 0
      },
      "text/plain": [
       "HBox(children=(FloatProgress(value=0.0, description='instagram images scrapping bar', max=20.0, style=Progress…"
      ]
     },
     "metadata": {},
     "output_type": "display_data"
    },
    {
     "data": {
      "application/vnd.jupyter.widget-view+json": {
       "model_id": "350810d1600d49669727f87f3f3813fa",
       "version_major": 2,
       "version_minor": 0
      },
      "text/plain": [
       "HBox(children=(FloatProgress(value=0.0, description='instagram images scrapping bar', max=20.0, style=Progress…"
      ]
     },
     "metadata": {},
     "output_type": "display_data"
    },
    {
     "data": {
      "application/vnd.jupyter.widget-view+json": {
       "model_id": "2c81e4f86128497e84e381dc744be3dd",
       "version_major": 2,
       "version_minor": 0
      },
      "text/plain": [
       "HBox(children=(FloatProgress(value=0.0, description='instagram images scrapping bar', max=20.0, style=Progress…"
      ]
     },
     "metadata": {},
     "output_type": "display_data"
    },
    {
     "data": {
      "application/vnd.jupyter.widget-view+json": {
       "model_id": "1e52b12ae8f14718b1e140a9c991e346",
       "version_major": 2,
       "version_minor": 0
      },
      "text/plain": [
       "HBox(children=(FloatProgress(value=0.0, description='instagram images scrapping bar', max=20.0, style=Progress…"
      ]
     },
     "metadata": {},
     "output_type": "display_data"
    },
    {
     "data": {
      "application/vnd.jupyter.widget-view+json": {
       "model_id": "6c63fb40f17141cda518c5bb7ca5d545",
       "version_major": 2,
       "version_minor": 0
      },
      "text/plain": [
       "HBox(children=(FloatProgress(value=0.0, description='instagram images scrapping bar', max=20.0, style=Progress…"
      ]
     },
     "metadata": {},
     "output_type": "display_data"
    },
    {
     "data": {
      "application/vnd.jupyter.widget-view+json": {
       "model_id": "85e4ee58f12f41b48be76a77fcca7871",
       "version_major": 2,
       "version_minor": 0
      },
      "text/plain": [
       "HBox(children=(FloatProgress(value=0.0, description='instagram images scrapping bar', max=20.0, style=Progress…"
      ]
     },
     "metadata": {},
     "output_type": "display_data"
    },
    {
     "data": {
      "application/vnd.jupyter.widget-view+json": {
       "model_id": "f95ae2fc1c2f4ac8a9661df81da8c4e1",
       "version_major": 2,
       "version_minor": 0
      },
      "text/plain": [
       "HBox(children=(FloatProgress(value=0.0, description='instagram images scrapping bar', max=20.0, style=Progress…"
      ]
     },
     "metadata": {},
     "output_type": "display_data"
    },
    {
     "data": {
      "application/vnd.jupyter.widget-view+json": {
       "model_id": "f96c4126d1d0433bb1a7733f1e27078f",
       "version_major": 2,
       "version_minor": 0
      },
      "text/plain": [
       "HBox(children=(FloatProgress(value=0.0, description='instagram images scrapping bar', max=20.0, style=Progress…"
      ]
     },
     "metadata": {},
     "output_type": "display_data"
    },
    {
     "data": {
      "application/vnd.jupyter.widget-view+json": {
       "model_id": "8c5f753b02744613a12a82d6f26a43f6",
       "version_major": 2,
       "version_minor": 0
      },
      "text/plain": [
       "HBox(children=(FloatProgress(value=0.0, description='instagram images scrapping bar', max=20.0, style=Progress…"
      ]
     },
     "metadata": {},
     "output_type": "display_data"
    },
    {
     "data": {
      "application/vnd.jupyter.widget-view+json": {
       "model_id": "f1b49726fb134b01be89950d11f4f0dd",
       "version_major": 2,
       "version_minor": 0
      },
      "text/plain": [
       "HBox(children=(FloatProgress(value=0.0, description='instagram images scrapping bar', max=20.0, style=Progress…"
      ]
     },
     "metadata": {},
     "output_type": "display_data"
    },
    {
     "data": {
      "application/vnd.jupyter.widget-view+json": {
       "model_id": "75bfe82a26f14ebd9999be5956400c4a",
       "version_major": 2,
       "version_minor": 0
      },
      "text/plain": [
       "HBox(children=(FloatProgress(value=0.0, description='instagram images scrapping bar', max=20.0, style=Progress…"
      ]
     },
     "metadata": {},
     "output_type": "display_data"
    },
    {
     "data": {
      "application/vnd.jupyter.widget-view+json": {
       "model_id": "8c45b2ebd4cf4470969c0351238cfeab",
       "version_major": 2,
       "version_minor": 0
      },
      "text/plain": [
       "HBox(children=(FloatProgress(value=0.0, description='instagram images scrapping bar', max=20.0, style=Progress…"
      ]
     },
     "metadata": {},
     "output_type": "display_data"
    },
    {
     "data": {
      "application/vnd.jupyter.widget-view+json": {
       "model_id": "dad933c9ca244a26b80488180a232313",
       "version_major": 2,
       "version_minor": 0
      },
      "text/plain": [
       "HBox(children=(FloatProgress(value=0.0, description='instagram images scrapping bar', max=20.0, style=Progress…"
      ]
     },
     "metadata": {},
     "output_type": "display_data"
    },
    {
     "data": {
      "application/vnd.jupyter.widget-view+json": {
       "model_id": "f753376765b94501b33099e744536a6e",
       "version_major": 2,
       "version_minor": 0
      },
      "text/plain": [
       "HBox(children=(FloatProgress(value=0.0, description='instagram images scrapping bar', max=20.0, style=Progress…"
      ]
     },
     "metadata": {},
     "output_type": "display_data"
    },
    {
     "data": {
      "application/vnd.jupyter.widget-view+json": {
       "model_id": "0c3a255af4d6431aadc01a6aedaa4e1d",
       "version_major": 2,
       "version_minor": 0
      },
      "text/plain": [
       "HBox(children=(FloatProgress(value=0.0, description='instagram images scrapping bar', max=20.0, style=Progress…"
      ]
     },
     "metadata": {},
     "output_type": "display_data"
    },
    {
     "data": {
      "application/vnd.jupyter.widget-view+json": {
       "model_id": "c067960f238c4064a8aa8e71af6093ee",
       "version_major": 2,
       "version_minor": 0
      },
      "text/plain": [
       "HBox(children=(FloatProgress(value=0.0, description='instagram images scrapping bar', max=20.0, style=Progress…"
      ]
     },
     "metadata": {},
     "output_type": "display_data"
    },
    {
     "data": {
      "application/vnd.jupyter.widget-view+json": {
       "model_id": "58fe8e0a154e4ebbaaad6b19d002616e",
       "version_major": 2,
       "version_minor": 0
      },
      "text/plain": [
       "HBox(children=(FloatProgress(value=0.0, description='instagram images scrapping bar', max=20.0, style=Progress…"
      ]
     },
     "metadata": {},
     "output_type": "display_data"
    },
    {
     "data": {
      "application/vnd.jupyter.widget-view+json": {
       "model_id": "5b820954af7f44dd8d572c217e9f8c12",
       "version_major": 2,
       "version_minor": 0
      },
      "text/plain": [
       "HBox(children=(FloatProgress(value=0.0, description='instagram images scrapping bar', max=20.0, style=Progress…"
      ]
     },
     "metadata": {},
     "output_type": "display_data"
    },
    {
     "data": {
      "application/vnd.jupyter.widget-view+json": {
       "model_id": "522ec982f1b5475abe315cbb5a0e2973",
       "version_major": 2,
       "version_minor": 0
      },
      "text/plain": [
       "HBox(children=(FloatProgress(value=0.0, description='instagram images scrapping bar', max=20.0, style=Progress…"
      ]
     },
     "metadata": {},
     "output_type": "display_data"
    },
    {
     "data": {
      "application/vnd.jupyter.widget-view+json": {
       "model_id": "f58ac5b0cd1e4d4c9ad25c222d82f4df",
       "version_major": 2,
       "version_minor": 0
      },
      "text/plain": [
       "HBox(children=(FloatProgress(value=0.0, description='instagram images scrapping bar', max=20.0, style=Progress…"
      ]
     },
     "metadata": {},
     "output_type": "display_data"
    },
    {
     "data": {
      "application/vnd.jupyter.widget-view+json": {
       "model_id": "687df5feb6c5457880018c1d68480fe2",
       "version_major": 2,
       "version_minor": 0
      },
      "text/plain": [
       "HBox(children=(FloatProgress(value=0.0, description='instagram images scrapping bar', max=20.0, style=Progress…"
      ]
     },
     "metadata": {},
     "output_type": "display_data"
    },
    {
     "data": {
      "application/vnd.jupyter.widget-view+json": {
       "model_id": "09a875902d9d4a54999ce24a2c292b78",
       "version_major": 2,
       "version_minor": 0
      },
      "text/plain": [
       "HBox(children=(FloatProgress(value=0.0, description='instagram images scrapping bar', max=20.0, style=Progress…"
      ]
     },
     "metadata": {},
     "output_type": "display_data"
    },
    {
     "data": {
      "application/vnd.jupyter.widget-view+json": {
       "model_id": "5019d0558871491e9731c71a49708558",
       "version_major": 2,
       "version_minor": 0
      },
      "text/plain": [
       "HBox(children=(FloatProgress(value=0.0, description='instagram images scrapping bar', max=20.0, style=Progress…"
      ]
     },
     "metadata": {},
     "output_type": "display_data"
    },
    {
     "data": {
      "application/vnd.jupyter.widget-view+json": {
       "model_id": "5c031485fb8940968980944439cccada",
       "version_major": 2,
       "version_minor": 0
      },
      "text/plain": [
       "HBox(children=(FloatProgress(value=0.0, description='instagram images scrapping bar', max=20.0, style=Progress…"
      ]
     },
     "metadata": {},
     "output_type": "display_data"
    },
    {
     "data": {
      "application/vnd.jupyter.widget-view+json": {
       "model_id": "f4ffad3c623f41f09d7269d9ed5a993c",
       "version_major": 2,
       "version_minor": 0
      },
      "text/plain": [
       "HBox(children=(FloatProgress(value=0.0, description='instagram images scrapping bar', max=20.0, style=Progress…"
      ]
     },
     "metadata": {},
     "output_type": "display_data"
    },
    {
     "data": {
      "application/vnd.jupyter.widget-view+json": {
       "model_id": "cb543d3b812b40e09b9addd926fd32f7",
       "version_major": 2,
       "version_minor": 0
      },
      "text/plain": [
       "HBox(children=(FloatProgress(value=0.0, description='instagram images scrapping bar', max=20.0, style=Progress…"
      ]
     },
     "metadata": {},
     "output_type": "display_data"
    },
    {
     "data": {
      "application/vnd.jupyter.widget-view+json": {
       "model_id": "736d485fed314062921691360dd95c09",
       "version_major": 2,
       "version_minor": 0
      },
      "text/plain": [
       "HBox(children=(FloatProgress(value=0.0, description='instagram images scrapping bar', max=20.0, style=Progress…"
      ]
     },
     "metadata": {},
     "output_type": "display_data"
    },
    {
     "data": {
      "application/vnd.jupyter.widget-view+json": {
       "model_id": "f44ed8d4139b4be59fbd3760538dc23e",
       "version_major": 2,
       "version_minor": 0
      },
      "text/plain": [
       "HBox(children=(FloatProgress(value=0.0, description='instagram images scrapping bar', max=20.0, style=Progress…"
      ]
     },
     "metadata": {},
     "output_type": "display_data"
    },
    {
     "data": {
      "application/vnd.jupyter.widget-view+json": {
       "model_id": "8adfff39a531411da2e5f69c3c34033d",
       "version_major": 2,
       "version_minor": 0
      },
      "text/plain": [
       "HBox(children=(FloatProgress(value=0.0, description='instagram images scrapping bar', max=20.0, style=Progress…"
      ]
     },
     "metadata": {},
     "output_type": "display_data"
    },
    {
     "data": {
      "application/vnd.jupyter.widget-view+json": {
       "model_id": "935a5d47214c4e59b5f312e890bd8d0b",
       "version_major": 2,
       "version_minor": 0
      },
      "text/plain": [
       "HBox(children=(FloatProgress(value=0.0, description='instagram images scrapping bar', max=20.0, style=Progress…"
      ]
     },
     "metadata": {},
     "output_type": "display_data"
    },
    {
     "data": {
      "application/vnd.jupyter.widget-view+json": {
       "model_id": "fa310f5af1a54100b3b1539897abee1e",
       "version_major": 2,
       "version_minor": 0
      },
      "text/plain": [
       "HBox(children=(FloatProgress(value=0.0, description='instagram images scrapping bar', max=20.0, style=Progress…"
      ]
     },
     "metadata": {},
     "output_type": "display_data"
    },
    {
     "data": {
      "application/vnd.jupyter.widget-view+json": {
       "model_id": "4bc99459e1a649d39ab244a1719222b7",
       "version_major": 2,
       "version_minor": 0
      },
      "text/plain": [
       "HBox(children=(FloatProgress(value=0.0, description='instagram images scrapping bar', max=20.0, style=Progress…"
      ]
     },
     "metadata": {},
     "output_type": "display_data"
    },
    {
     "data": {
      "application/vnd.jupyter.widget-view+json": {
       "model_id": "e66467526c404d33973a265cda06495f",
       "version_major": 2,
       "version_minor": 0
      },
      "text/plain": [
       "HBox(children=(FloatProgress(value=0.0, description='instagram images scrapping bar', max=20.0, style=Progress…"
      ]
     },
     "metadata": {},
     "output_type": "display_data"
    },
    {
     "data": {
      "application/vnd.jupyter.widget-view+json": {
       "model_id": "b369f919977745738d874016eb6adfec",
       "version_major": 2,
       "version_minor": 0
      },
      "text/plain": [
       "HBox(children=(FloatProgress(value=0.0, description='instagram images scrapping bar', max=20.0, style=Progress…"
      ]
     },
     "metadata": {},
     "output_type": "display_data"
    },
    {
     "data": {
      "application/vnd.jupyter.widget-view+json": {
       "model_id": "04c1d3f216b2482c98fd825ef9df7325",
       "version_major": 2,
       "version_minor": 0
      },
      "text/plain": [
       "HBox(children=(FloatProgress(value=0.0, description='instagram images scrapping bar', max=20.0, style=Progress…"
      ]
     },
     "metadata": {},
     "output_type": "display_data"
    },
    {
     "data": {
      "application/vnd.jupyter.widget-view+json": {
       "model_id": "ec0e301be8294f2eaadad88c7e513c06",
       "version_major": 2,
       "version_minor": 0
      },
      "text/plain": [
       "HBox(children=(FloatProgress(value=0.0, description='instagram images scrapping bar', max=20.0, style=Progress…"
      ]
     },
     "metadata": {},
     "output_type": "display_data"
    },
    {
     "data": {
      "application/vnd.jupyter.widget-view+json": {
       "model_id": "473748b779704b6e8af4bf79d0b4d7c0",
       "version_major": 2,
       "version_minor": 0
      },
      "text/plain": [
       "HBox(children=(FloatProgress(value=0.0, description='instagram images scrapping bar', max=20.0, style=Progress…"
      ]
     },
     "metadata": {},
     "output_type": "display_data"
    },
    {
     "data": {
      "application/vnd.jupyter.widget-view+json": {
       "model_id": "9aeed8941bde4bb488f022daa3c47978",
       "version_major": 2,
       "version_minor": 0
      },
      "text/plain": [
       "HBox(children=(FloatProgress(value=0.0, description='instagram images scrapping bar', max=20.0, style=Progress…"
      ]
     },
     "metadata": {},
     "output_type": "display_data"
    },
    {
     "data": {
      "application/vnd.jupyter.widget-view+json": {
       "model_id": "ac1e61a300074653ab3b7eac1e12e43b",
       "version_major": 2,
       "version_minor": 0
      },
      "text/plain": [
       "HBox(children=(FloatProgress(value=0.0, description='instagram images scrapping bar', max=20.0, style=Progress…"
      ]
     },
     "metadata": {},
     "output_type": "display_data"
    },
    {
     "data": {
      "application/vnd.jupyter.widget-view+json": {
       "model_id": "139d0e7b66884aee82c789caebee647e",
       "version_major": 2,
       "version_minor": 0
      },
      "text/plain": [
       "HBox(children=(FloatProgress(value=0.0, description='instagram images scrapping bar', max=20.0, style=Progress…"
      ]
     },
     "metadata": {},
     "output_type": "display_data"
    },
    {
     "data": {
      "application/vnd.jupyter.widget-view+json": {
       "model_id": "46859787d34041e794343bd5473d6380",
       "version_major": 2,
       "version_minor": 0
      },
      "text/plain": [
       "HBox(children=(FloatProgress(value=0.0, description='instagram images scrapping bar', max=20.0, style=Progress…"
      ]
     },
     "metadata": {},
     "output_type": "display_data"
    },
    {
     "data": {
      "application/vnd.jupyter.widget-view+json": {
       "model_id": "29ff7842105140c6be21d8b5c7470d20",
       "version_major": 2,
       "version_minor": 0
      },
      "text/plain": [
       "HBox(children=(FloatProgress(value=0.0, description='instagram images scrapping bar', max=20.0, style=Progress…"
      ]
     },
     "metadata": {},
     "output_type": "display_data"
    },
    {
     "data": {
      "application/vnd.jupyter.widget-view+json": {
       "model_id": "27ac546c443a4ff094e31ef064b61bc2",
       "version_major": 2,
       "version_minor": 0
      },
      "text/plain": [
       "HBox(children=(FloatProgress(value=0.0, description='instagram images scrapping bar', max=20.0, style=Progress…"
      ]
     },
     "metadata": {},
     "output_type": "display_data"
    },
    {
     "data": {
      "application/vnd.jupyter.widget-view+json": {
       "model_id": "3074f7ccd2fc41f7a5f4d65f7e7ee635",
       "version_major": 2,
       "version_minor": 0
      },
      "text/plain": [
       "HBox(children=(FloatProgress(value=0.0, description='instagram images scrapping bar', max=20.0, style=Progress…"
      ]
     },
     "metadata": {},
     "output_type": "display_data"
    },
    {
     "data": {
      "application/vnd.jupyter.widget-view+json": {
       "model_id": "25445c0800d04f4e95e8bc2761218f80",
       "version_major": 2,
       "version_minor": 0
      },
      "text/plain": [
       "HBox(children=(FloatProgress(value=0.0, description='instagram images scrapping bar', max=20.0, style=Progress…"
      ]
     },
     "metadata": {},
     "output_type": "display_data"
    },
    {
     "data": {
      "application/vnd.jupyter.widget-view+json": {
       "model_id": "7a05c66e9ecc401c978a213fda09dd62",
       "version_major": 2,
       "version_minor": 0
      },
      "text/plain": [
       "HBox(children=(FloatProgress(value=0.0, description='instagram images scrapping bar', max=20.0, style=Progress…"
      ]
     },
     "metadata": {},
     "output_type": "display_data"
    },
    {
     "data": {
      "application/vnd.jupyter.widget-view+json": {
       "model_id": "7b606d6ba4744c7e9f95d804707d54ef",
       "version_major": 2,
       "version_minor": 0
      },
      "text/plain": [
       "HBox(children=(FloatProgress(value=0.0, description='instagram images scrapping bar', max=20.0, style=Progress…"
      ]
     },
     "metadata": {},
     "output_type": "display_data"
    },
    {
     "name": "stderr",
     "output_type": "stream",
     "text": [
      "JSON Query to api/v1/media/2530983834775130705/info/: 429 Too Many Requests [retrying; skip with ^C]\n",
      "Number of requests within last 10/11/20/22/30/60 minutes grouped by type:\n",
      "                              other:    2    2    2    2    4    7\n",
      "   2b0673e0dc4580674a88d426fe00ea90:  105  110  110  121  200  422\n",
      " *                           iphone:  103  109  109  119  195  392\n",
      "Instagram responded with HTTP error \"429 - Too Many Requests\". Please\n",
      "do not run multiple instances of Instaloader in parallel or within\n",
      "short sequence. Also, do not use any Instagram App while Instaloader\n",
      "is running.\n",
      "The request will be retried in 27 seconds, at 16:05.\n",
      "JSON Query to api/v1/media/2530983834775130705/info/: 429 Too Many Requests [retrying; skip with ^C]\n",
      "Number of requests within last 10/11/20/22/30/60 minutes grouped by type:\n",
      "                              other:    2    2    2    2    4    7\n",
      "   2b0673e0dc4580674a88d426fe00ea90:  100  110  110  115  196  416\n",
      " *                           iphone:  100  110  110  115  193  386\n",
      "Instagram responded with HTTP error \"429 - Too Many Requests\". Please\n",
      "do not run multiple instances of Instaloader in parallel or within\n",
      "short sequence. Also, do not use any Instagram App while Instaloader\n",
      "is running.\n",
      "The request will be retried in 21 seconds, at 16:05.\n",
      "JSON Query to api/v1/media/2530983834775130705/info/: 429 Too Many Requests Unable to fetch high quality image version of <Post CMf3GNUBxJR>.\n",
      "JSON Query to api/v1/media/2530983834775130705/info/: 429 Too Many Requests [retrying; skip with ^C]\n",
      "Number of requests within last 10/11/20/22/30/60 minutes grouped by type:\n",
      "                              other:    2    2    2    2    4    7\n",
      "   2b0673e0dc4580674a88d426fe00ea90:   95  105  110  110  191  413\n",
      " *                           iphone:   97  106  112  112  191  386\n",
      "Instagram responded with HTTP error \"429 - Too Many Requests\". Please\n",
      "do not run multiple instances of Instaloader in parallel or within\n",
      "short sequence. Also, do not use any Instagram App while Instaloader\n",
      "is running.\n",
      "The request will be retried in 19 seconds, at 16:06.\n",
      "JSON Query to api/v1/media/2530983834775130705/info/: 429 Too Many Requests [retrying; skip with ^C]\n",
      "Number of requests within last 10/11/20/22/30/60 minutes grouped by type:\n",
      "                              other:    2    2    2    2    3    7\n",
      "   2b0673e0dc4580674a88d426fe00ea90:   91  101  110  110  188  413\n",
      " *                           iphone:   95  104  113  113  188  386\n",
      "Instagram responded with HTTP error \"429 - Too Many Requests\". Please\n",
      "do not run multiple instances of Instaloader in parallel or within\n",
      "short sequence. Also, do not use any Instagram App while Instaloader\n",
      "is running.\n",
      "The request will be retried in 23 seconds, at 16:06.\n",
      "JSON Query to api/v1/media/2530983834775130705/info/: 429 Too Many Requests Unable to fetch high quality image version of <Post CMf3GNUBxJR>.\n",
      "JSON Query to api/v1/media/2530983834775130705/info/: 429 Too Many Requests [retrying; skip with ^C]\n",
      "Number of requests within last 10/11/20/22/30/60 minutes grouped by type:\n",
      "                              other:    2    2    2    2    3    7\n",
      "   2b0673e0dc4580674a88d426fe00ea90:   88   97  110  110  183  408\n",
      " *                           iphone:   94  103  115  115  185  384\n",
      "Instagram responded with HTTP error \"429 - Too Many Requests\". Please\n",
      "do not run multiple instances of Instaloader in parallel or within\n",
      "short sequence. Also, do not use any Instagram App while Instaloader\n",
      "is running.\n",
      "The request will be retried in 25 seconds, at 16:07.\n",
      "JSON Query to api/v1/media/2530983834775130705/info/: 429 Too Many Requests [retrying; skip with ^C]\n",
      "Number of requests within last 10/11/20/22/30/60 minutes grouped by type:\n",
      "                              other:    2    2    2    2    3    7\n",
      "   2b0673e0dc4580674a88d426fe00ea90:   83   91  110  110  181  404\n",
      " *                           iphone:   89   98  116  116  185  381\n",
      "Instagram responded with HTTP error \"429 - Too Many Requests\". Please\n",
      "do not run multiple instances of Instaloader in parallel or within\n",
      "short sequence. Also, do not use any Instagram App while Instaloader\n",
      "is running.\n",
      "The request will be retried in 20 seconds, at 16:07.\n",
      "JSON Query to api/v1/media/2530983834775130705/info/: 429 Too Many Requests Unable to fetch high quality image version of <Post CMf3GNUBxJR>.\n",
      "JSON Query to api/v1/media/2530983834775130705/info/: 429 Too Many Requests [retrying; skip with ^C]\n",
      "Number of requests within last 10/11/20/22/30/60 minutes grouped by type:\n",
      "                              other:    2    2    2    2    3    7\n",
      "   2b0673e0dc4580674a88d426fe00ea90:   78   90  110  110  178  398\n",
      " *                           iphone:   87   99  118  118  183  377\n",
      "Instagram responded with HTTP error \"429 - Too Many Requests\". Please\n",
      "do not run multiple instances of Instaloader in parallel or within\n",
      "short sequence. Also, do not use any Instagram App while Instaloader\n",
      "is running.\n",
      "The request will be retried in 22 seconds, at 16:07.\n",
      "JSON Query to api/v1/media/2530983834775130705/info/: 429 Too Many Requests [retrying; skip with ^C]\n",
      "Number of requests within last 10/11/20/22/30/60 minutes grouped by type:\n",
      "                              other:    2    2    2    2    3    7\n",
      "   2b0673e0dc4580674a88d426fe00ea90:   74   85  110  110  175  391\n",
      " *                           iphone:   83   95  119  119  181  371\n",
      "Instagram responded with HTTP error \"429 - Too Many Requests\". Please\n",
      "do not run multiple instances of Instaloader in parallel or within\n",
      "short sequence. Also, do not use any Instagram App while Instaloader\n",
      "is running.\n",
      "The request will be retried in 20 seconds, at 16:08.\n",
      "JSON Query to api/v1/media/2530983834775130705/info/: 429 Too Many Requests Unable to fetch high quality image version of <Post CMf3GNUBxJR>.\n",
      "JSON Query to api/v1/media/2530983834775130705/info/: 429 Too Many Requests [retrying; skip with ^C]\n",
      "Number of requests within last 10/11/20/22/30/60 minutes grouped by type:\n",
      "                              other:    2    2    2    2    3    7\n",
      "   2b0673e0dc4580674a88d426fe00ea90:   68   82  110  110  171  391\n",
      " *                           iphone:   80   93  121  121  179  373\n",
      "Instagram responded with HTTP error \"429 - Too Many Requests\". Please\n",
      "do not run multiple instances of Instaloader in parallel or within\n",
      "short sequence. Also, do not use any Instagram App while Instaloader\n",
      "is running.\n",
      "The request will be retried in 26 seconds, at 16:08.\n",
      "JSON Query to api/v1/media/2530983834775130705/info/: 429 Too Many Requests [retrying; skip with ^C]\n",
      "Number of requests within last 10/11/20/22/30/60 minutes grouped by type:\n",
      "                              other:    2    2    2    2    3    7\n",
      "   2b0673e0dc4580674a88d426fe00ea90:   67   76  110  110  168  386\n",
      " *                           iphone:   80   88  122  122  178  368\n",
      "Instagram responded with HTTP error \"429 - Too Many Requests\". Please\n",
      "do not run multiple instances of Instaloader in parallel or within\n",
      "short sequence. Also, do not use any Instagram App while Instaloader\n",
      "is running.\n",
      "The request will be retried in 23 seconds, at 16:09.\n",
      "JSON Query to api/v1/media/2530983834775130705/info/: 429 Too Many Requests Unable to fetch high quality image version of <Post CMf3GNUBxJR>.\n",
      "JSON Query to api/v1/media/2530983478756965233/info/: 429 Too Many Requests [retrying; skip with ^C]\n",
      "Number of requests within last 10/11/20/22/30/60 minutes grouped by type:\n",
      "                              other:    1    2    2    2    3    6\n",
      "   2b0673e0dc4580674a88d426fe00ea90:   65   70  111  111  166  382\n",
      " *                           iphone:   79   84  124  124  176  365\n",
      "Instagram responded with HTTP error \"429 - Too Many Requests\". Please\n",
      "do not run multiple instances of Instaloader in parallel or within\n",
      "short sequence. Also, do not use any Instagram App while Instaloader\n",
      "is running.\n",
      "The request will be retried in 22 seconds, at 16:09.\n",
      "JSON Query to api/v1/media/2530983478756965233/info/: 429 Too Many Requests [retrying; skip with ^C]\n",
      "Number of requests within last 10/11/20/22/30/60 minutes grouped by type:\n",
      "                              other:    1    2    2    2    3    6\n",
      "   2b0673e0dc4580674a88d426fe00ea90:   58   68  111  111  159  376\n",
      " *                           iphone:   72   82  125  125  171  360\n",
      "Instagram responded with HTTP error \"429 - Too Many Requests\". Please\n",
      "do not run multiple instances of Instaloader in parallel or within\n",
      "short sequence. Also, do not use any Instagram App while Instaloader\n",
      "is running.\n",
      "The request will be retried in 18 seconds, at 16:10.\n"
     ]
    },
    {
     "name": "stderr",
     "output_type": "stream",
     "text": [
      "JSON Query to api/v1/media/2530983478756965233/info/: 429 Too Many Requests Unable to fetch high quality image version of <Post CMf3BBvsPtx>.\n",
      "JSON Query to api/v1/media/2530983478756965233/info/: 429 Too Many Requests [retrying; skip with ^C]\n",
      "Number of requests within last 10/11/20/22/30/60 minutes grouped by type:\n",
      "                              other:    1    1    2    2    3    6\n",
      "   2b0673e0dc4580674a88d426fe00ea90:   52   65  111  111  155  370\n",
      " *                           iphone:   69   82  127  127  170  358\n",
      "Instagram responded with HTTP error \"429 - Too Many Requests\". Please\n",
      "do not run multiple instances of Instaloader in parallel or within\n",
      "short sequence. Also, do not use any Instagram App while Instaloader\n",
      "is running.\n",
      "The request will be retried in 19 seconds, at 16:10.\n",
      "JSON Query to api/v1/media/2530983478756965233/info/: 429 Too Many Requests [retrying; skip with ^C]\n",
      "Number of requests within last 10/11/20/22/30/60 minutes grouped by type:\n",
      "                              other:    1    1    2    2    3    6\n",
      "   2b0673e0dc4580674a88d426fe00ea90:   48   62  111  111  149  366\n",
      " *                           iphone:   66   79  128  128  165  355\n",
      "Instagram responded with HTTP error \"429 - Too Many Requests\". Please\n",
      "do not run multiple instances of Instaloader in parallel or within\n",
      "short sequence. Also, do not use any Instagram App while Instaloader\n",
      "is running.\n",
      "The request will be retried in 24 seconds, at 16:10.\n",
      "JSON Query to api/v1/media/2530983478756965233/info/: 429 Too Many Requests Unable to fetch high quality image version of <Post CMf3BBvsPtx>.\n",
      "JSON Query to api/v1/media/2530983478756965233/info/: 429 Too Many Requests [retrying; skip with ^C]\n",
      "Number of requests within last 10/11/20/22/30/60 minutes grouped by type:\n",
      "                              other:    1    1    2    2    3    6\n",
      "   2b0673e0dc4580674a88d426fe00ea90:   42   54  111  111  142  361\n",
      " *                           iphone:   61   73  130  130  160  352\n",
      "Instagram responded with HTTP error \"429 - Too Many Requests\". Please\n",
      "do not run multiple instances of Instaloader in parallel or within\n",
      "short sequence. Also, do not use any Instagram App while Instaloader\n",
      "is running.\n",
      "The request will be retried in 23 seconds, at 16:11.\n",
      "JSON Query to api/v1/media/2530983478756965233/info/: 429 Too Many Requests [retrying; skip with ^C]\n",
      "Number of requests within last 10/11/20/22/30/60 minutes grouped by type:\n",
      "                              other:    1    1    2    2    3    6\n",
      "   2b0673e0dc4580674a88d426fe00ea90:   36   49  111  111  138  359\n",
      " *                           iphone:   57   69  131  131  158  350\n",
      "Instagram responded with HTTP error \"429 - Too Many Requests\". Please\n",
      "do not run multiple instances of Instaloader in parallel or within\n",
      "short sequence. Also, do not use any Instagram App while Instaloader\n",
      "is running.\n",
      "The request will be retried in 18 seconds, at 16:11.\n",
      "JSON Query to api/v1/media/2530983478756965233/info/: 429 Too Many Requests Unable to fetch high quality image version of <Post CMf3BBvsPtx>.\n",
      "JSON Query to api/v1/media/2530983478756965233/info/: 429 Too Many Requests [retrying; skip with ^C]\n",
      "Number of requests within last 10/11/20/22/30/60 minutes grouped by type:\n",
      "                              other:    1    1    2    2    3    6\n",
      "   2b0673e0dc4580674a88d426fe00ea90:   33   45  111  111  134  354\n",
      " *                           iphone:   57   67  133  133  155  349\n",
      "Instagram responded with HTTP error \"429 - Too Many Requests\". Please\n",
      "do not run multiple instances of Instaloader in parallel or within\n",
      "short sequence. Also, do not use any Instagram App while Instaloader\n",
      "is running.\n",
      "The request will be retried in 20 seconds, at 16:12.\n",
      "JSON Query to api/v1/media/2530983478756965233/info/: 429 Too Many Requests [retrying; skip with ^C]\n",
      "Number of requests within last 10/11/20/22/30/60 minutes grouped by type:\n",
      "                              other:    1    1    2    2    3    6\n",
      "   2b0673e0dc4580674a88d426fe00ea90:   30   39  111  111  129  348\n",
      " *                           iphone:   54   63  134  134  152  343\n",
      "Instagram responded with HTTP error \"429 - Too Many Requests\". Please\n",
      "do not run multiple instances of Instaloader in parallel or within\n",
      "short sequence. Also, do not use any Instagram App while Instaloader\n",
      "is running.\n",
      "The request will be retried in 18 seconds, at 16:12.\n",
      "JSON Query to api/v1/media/2530983478756965233/info/: 429 Too Many Requests Unable to fetch high quality image version of <Post CMf3BBvsPtx>.\n",
      "JSON Query to api/v1/media/2530983341619953719/info/: 429 Too Many Requests [retrying; skip with ^C]\n",
      "Number of requests within last 10/11/20/22/30/60 minutes grouped by type:\n",
      "                              other:    1    1    2    2    2    6\n",
      "   2b0673e0dc4580674a88d426fe00ea90:   28   34  112  112  126  342\n",
      " *                           iphone:   53   60  136  136  150  339\n",
      "Instagram responded with HTTP error \"429 - Too Many Requests\". Please\n",
      "do not run multiple instances of Instaloader in parallel or within\n",
      "short sequence. Also, do not use any Instagram App while Instaloader\n",
      "is running.\n",
      "The request will be retried in 22 seconds, at 16:12.\n",
      "JSON Query to api/v1/media/2530983341619953719/info/: 429 Too Many Requests [retrying; skip with ^C]\n",
      "Number of requests within last 10/11/20/22/30/60 minutes grouped by type:\n",
      "                              other:    1    1    2    2    2    6\n",
      "   2b0673e0dc4580674a88d426fe00ea90:   24   32  112  112  122  338\n",
      " *                           iphone:   51   59  137  137  146  338\n",
      "Instagram responded with HTTP error \"429 - Too Many Requests\". Please\n",
      "do not run multiple instances of Instaloader in parallel or within\n",
      "short sequence. Also, do not use any Instagram App while Instaloader\n",
      "is running.\n",
      "The request will be retried in 22 seconds, at 16:13.\n",
      "JSON Query to api/v1/media/2530983341619953719/info/: 429 Too Many Requests Unable to fetch high quality image version of <Post CMf2_CBsEA3>.\n",
      "JSON Query to api/v1/media/2530982893030800249/info/: 429 Too Many Requests [retrying; skip with ^C]\n",
      "Number of requests within last 10/11/20/22/30/60 minutes grouped by type:\n",
      "                              other:    1    1    2    2    2    6\n",
      "   2b0673e0dc4580674a88d426fe00ea90:   20   30  113  113  117  330\n",
      " *                           iphone:   48   57  139  139  143  338\n",
      "Instagram responded with HTTP error \"429 - Too Many Requests\". Please\n",
      "do not run multiple instances of Instaloader in parallel or within\n",
      "short sequence. Also, do not use any Instagram App while Instaloader\n",
      "is running.\n",
      "The request will be retried in 18 seconds, at 16:13.\n",
      "JSON Query to api/v1/media/2530982893030800249/info/: 429 Too Many Requests [retrying; skip with ^C]\n",
      "Number of requests within last 10/11/20/22/30/60 minutes grouped by type:\n",
      "                              other:    1    1    2    2    2    6\n",
      "   2b0673e0dc4580674a88d426fe00ea90:   16   26  113  113  113  323\n",
      " *                           iphone:   44   55  140  140  140  339\n",
      "Instagram responded with HTTP error \"429 - Too Many Requests\". Please\n",
      "do not run multiple instances of Instaloader in parallel or within\n",
      "short sequence. Also, do not use any Instagram App while Instaloader\n",
      "is running.\n",
      "The request will be retried in 655 seconds, at 16:24.\n",
      "JSON Query to api/v1/media/2530982893030800249/info/: 429 Too Many Requests Unable to fetch high quality image version of <Post CMf24gPsPt5>.\n",
      "JSON Query to api/v1/media/2530982893030800249/info/: 429 Too Many Requests [retrying; skip with ^C]\n",
      "Number of requests within last 10/11/20/22/30/60 minutes grouped by type:\n",
      "                              other:    0    0    0    1    2    5\n",
      "   2b0673e0dc4580674a88d426fe00ea90:    0    0    4   26  108  313\n",
      " *                           iphone:    2    3   35   57  137  334\n",
      "Instagram responded with HTTP error \"429 - Too Many Requests\". Please\n",
      "do not run multiple instances of Instaloader in parallel or within\n",
      "short sequence. Also, do not use any Instagram App while Instaloader\n",
      "is running.\n",
      "The request will be retried in 18 seconds, at 16:25.\n",
      "JSON Query to api/v1/media/2530982893030800249/info/: 429 Too Many Requests [retrying; skip with ^C]\n",
      "Number of requests within last 10/11/20/22/30/60 minutes grouped by type:\n",
      "                              other:    0    0    0    1    2    5\n",
      "   2b0673e0dc4580674a88d426fe00ea90:    0    0    3   24  105  308\n",
      " *                           iphone:    3    3   34   56  135  330\n",
      "Instagram responded with HTTP error \"429 - Too Many Requests\". Please\n",
      "do not run multiple instances of Instaloader in parallel or within\n",
      "short sequence. Also, do not use any Instagram App while Instaloader\n",
      "is running.\n",
      "The request will be retried in 21 seconds, at 16:25.\n"
     ]
    },
    {
     "name": "stderr",
     "output_type": "stream",
     "text": [
      "JSON Query to api/v1/media/2530982893030800249/info/: 429 Too Many Requests Unable to fetch high quality image version of <Post CMf24gPsPt5>.\n",
      "JSON Query to api/v1/media/2530982893030800249/info/: 429 Too Many Requests [retrying; skip with ^C]\n",
      "Number of requests within last 10/11/20/22/30/60 minutes grouped by type:\n",
      "                              other:    0    0    0    1    2    5\n",
      "   2b0673e0dc4580674a88d426fe00ea90:    0    0    3   19  101  305\n",
      " *                           iphone:    5    5   35   53  134  329\n",
      "Instagram responded with HTTP error \"429 - Too Many Requests\". Please\n",
      "do not run multiple instances of Instaloader in parallel or within\n",
      "short sequence. Also, do not use any Instagram App while Instaloader\n",
      "is running.\n",
      "The request will be retried in 18 seconds, at 16:25.\n",
      "JSON Query to api/v1/media/2530982893030800249/info/: 429 Too Many Requests [retrying; skip with ^C]\n",
      "Number of requests within last 10/11/20/22/30/60 minutes grouped by type:\n",
      "                              other:    0    0    0    1    2    5\n",
      "   2b0673e0dc4580674a88d426fe00ea90:    0    0    3   16   97  303\n",
      " *                           iphone:    6    6   34   50  130  328\n",
      "Instagram responded with HTTP error \"429 - Too Many Requests\". Please\n",
      "do not run multiple instances of Instaloader in parallel or within\n",
      "short sequence. Also, do not use any Instagram App while Instaloader\n",
      "is running.\n",
      "The request will be retried in 24 seconds, at 16:26.\n",
      "JSON Query to api/v1/media/2530982893030800249/info/: 429 Too Many Requests Unable to fetch high quality image version of <Post CMf24gPsPt5>.\n",
      "JSON Query to api/v1/media/2530982893030800249/info/: 429 Too Many Requests [retrying; skip with ^C]\n",
      "Number of requests within last 10/11/20/22/30/60 minutes grouped by type:\n",
      "                              other:    0    0    0    0    2    5\n",
      "   2b0673e0dc4580674a88d426fe00ea90:    0    0    3    9   93  296\n",
      " *                           iphone:    8    8   35   45  129  323\n",
      "Instagram responded with HTTP error \"429 - Too Many Requests\". Please\n",
      "do not run multiple instances of Instaloader in parallel or within\n",
      "short sequence. Also, do not use any Instagram App while Instaloader\n",
      "is running.\n",
      "The request will be retried in 20 seconds, at 16:26.\n",
      "JSON Query to api/v1/media/2530982893030800249/info/: 429 Too Many Requests [retrying; skip with ^C]\n",
      "Number of requests within last 10/11/20/22/30/60 minutes grouped by type:\n",
      "                              other:    0    0    0    0    2    5\n",
      "   2b0673e0dc4580674a88d426fe00ea90:    0    0    3    4   89  292\n",
      " *                           iphone:    9    9   34   41  126  320\n",
      "Instagram responded with HTTP error \"429 - Too Many Requests\". Please\n",
      "do not run multiple instances of Instaloader in parallel or within\n",
      "short sequence. Also, do not use any Instagram App while Instaloader\n",
      "is running.\n",
      "The request will be retried in 19 seconds, at 16:27.\n",
      "JSON Query to api/v1/media/2530982893030800249/info/: 429 Too Many Requests Unable to fetch high quality image version of <Post CMf24gPsPt5>.\n",
      "JSON Query to api/v1/media/2530982893187463341/info/: 429 Too Many Requests [retrying; skip with ^C]\n",
      "Number of requests within last 10/11/20/22/30/60 minutes grouped by type:\n",
      "                              other:    0    0    0    0    2    5\n",
      "   2b0673e0dc4580674a88d426fe00ea90:    1    1    4    4   86  291\n",
      " *                           iphone:   11   11   35   42  123  320\n",
      "Instagram responded with HTTP error \"429 - Too Many Requests\". Please\n",
      "do not run multiple instances of Instaloader in parallel or within\n",
      "short sequence. Also, do not use any Instagram App while Instaloader\n",
      "is running.\n",
      "The request will be retried in 25 seconds, at 16:27.\n",
      "JSON Query to api/v1/media/2530982893187463341/info/: 429 Too Many Requests [retrying; skip with ^C]\n",
      "Number of requests within last 10/11/20/22/30/60 minutes grouped by type:\n",
      "                              other:    0    0    0    0    2    5\n",
      "   2b0673e0dc4580674a88d426fe00ea90:    1    1    4    4   81  286\n",
      " *                           iphone:   12   12   34   42  119  317\n",
      "Instagram responded with HTTP error \"429 - Too Many Requests\". Please\n",
      "do not run multiple instances of Instaloader in parallel or within\n",
      "short sequence. Also, do not use any Instagram App while Instaloader\n",
      "is running.\n",
      "The request will be retried in 21 seconds, at 16:27.\n",
      "JSON Query to api/v1/media/2530982893187463341/info/: 429 Too Many Requests Unable to fetch high quality image version of <Post CMf24gZB3it>.\n",
      "JSON Query to api/v1/media/2530982709453224411/info/: 429 Too Many Requests [retrying; skip with ^C]\n",
      "Number of requests within last 10/11/20/22/30/60 minutes grouped by type:\n",
      "                              other:    0    0    0    0    2    5\n",
      "   2b0673e0dc4580674a88d426fe00ea90:    2    2    5    5   78  281\n",
      " *                           iphone:   14   14   35   42  117  313\n",
      "Instagram responded with HTTP error \"429 - Too Many Requests\". Please\n",
      "do not run multiple instances of Instaloader in parallel or within\n",
      "short sequence. Also, do not use any Instagram App while Instaloader\n",
      "is running.\n",
      "The request will be retried in 19 seconds, at 16:28.\n",
      "JSON Query to api/v1/media/2530982709453224411/info/: 429 Too Many Requests [retrying; skip with ^C]\n",
      "Number of requests within last 10/11/20/22/30/60 minutes grouped by type:\n",
      "                              other:    0    0    0    0    2    5\n",
      "   2b0673e0dc4580674a88d426fe00ea90:    2    2    5    5   73  279\n",
      " *                           iphone:   15   15   34   42  114  313\n",
      "Instagram responded with HTTP error \"429 - Too Many Requests\". Please\n",
      "do not run multiple instances of Instaloader in parallel or within\n",
      "short sequence. Also, do not use any Instagram App while Instaloader\n",
      "is running.\n",
      "The request will be retried in 37 seconds, at 16:28.\n",
      "JSON Query to api/v1/media/2530982709453224411/info/: 429 Too Many Requests Unable to fetch high quality image version of <Post CMf211RnXnb>.\n",
      "JSON Query to api/v1/media/2530982389276322667/info/: 429 Too Many Requests [retrying; skip with ^C]\n",
      "Number of requests within last 10/11/20/22/30/60 minutes grouped by type:\n",
      "                              other:    0    0    0    0    1    5\n",
      "   2b0673e0dc4580674a88d426fe00ea90:    3    3    6    6   70  267\n",
      " *                           iphone:   17   17   34   41  112  301\n",
      "Instagram responded with HTTP error \"429 - Too Many Requests\". Please\n",
      "do not run multiple instances of Instaloader in parallel or within\n",
      "short sequence. Also, do not use any Instagram App while Instaloader\n",
      "is running.\n",
      "The request will be retried in 22 seconds, at 16:29.\n",
      "JSON Query to api/v1/media/2530982389276322667/info/: 429 Too Many Requests [retrying; skip with ^C]\n",
      "Number of requests within last 10/11/20/22/30/60 minutes grouped by type:\n",
      "                              other:    0    0    0    0    1    5\n",
      "   2b0673e0dc4580674a88d426fe00ea90:    3    3    5    6   66  261\n",
      " *                           iphone:   18   18   34   40  108  297\n",
      "Instagram responded with HTTP error \"429 - Too Many Requests\". Please\n",
      "do not run multiple instances of Instaloader in parallel or within\n",
      "short sequence. Also, do not use any Instagram App while Instaloader\n",
      "is running.\n",
      "The request will be retried in 23 seconds, at 16:29.\n",
      "JSON Query to api/v1/media/2530982389276322667/info/: 429 Too Many Requests Unable to fetch high quality image version of <Post CMf2xLFlatr>.\n",
      "JSON Query to api/v1/media/2530982356368291510/info/: 429 Too Many Requests [retrying; skip with ^C]\n",
      "Number of requests within last 10/11/20/22/30/60 minutes grouped by type:\n",
      "                              other:    0    0    0    0    1    4\n",
      "   2b0673e0dc4580674a88d426fe00ea90:    4    4    6    7   60  257\n",
      " *                           iphone:   20   20   35   41  103  294\n",
      "Instagram responded with HTTP error \"429 - Too Many Requests\". Please\n",
      "do not run multiple instances of Instaloader in parallel or within\n",
      "short sequence. Also, do not use any Instagram App while Instaloader\n",
      "is running.\n",
      "The request will be retried in 19 seconds, at 16:30.\n",
      "JSON Query to api/v1/media/2530982356368291510/info/: 429 Too Many Requests [retrying; skip with ^C]\n",
      "Number of requests within last 10/11/20/22/30/60 minutes grouped by type:\n",
      "                              other:    0    0    0    0    1    4\n",
      "   2b0673e0dc4580674a88d426fe00ea90:    4    4    6    7   55  255\n",
      " *                           iphone:   21   21   34   40   99  292\n",
      "Instagram responded with HTTP error \"429 - Too Many Requests\". Please\n",
      "do not run multiple instances of Instaloader in parallel or within\n",
      "short sequence. Also, do not use any Instagram App while Instaloader\n",
      "is running.\n",
      "The request will be retried in 25 seconds, at 16:30.\n"
     ]
    },
    {
     "name": "stderr",
     "output_type": "stream",
     "text": [
      "JSON Query to api/v1/media/2530982356368291510/info/: 429 Too Many Requests Unable to fetch high quality image version of <Post CMf2wscHPa2>.\n",
      "JSON Query to api/v1/media/2530982139120832265/info/: 429 Too Many Requests [retrying; skip with ^C]\n",
      "Number of requests within last 10/11/20/22/30/60 minutes grouped by type:\n",
      "                              other:    0    0    0    0    1    4\n",
      "   2b0673e0dc4580674a88d426fe00ea90:    5    5    7    8   48  249\n",
      " *                           iphone:   23   23   33   41   94  287\n",
      "Instagram responded with HTTP error \"429 - Too Many Requests\". Please\n",
      "do not run multiple instances of Instaloader in parallel or within\n",
      "short sequence. Also, do not use any Instagram App while Instaloader\n",
      "is running.\n",
      "The request will be retried in 19 seconds, at 16:31.\n",
      "JSON Query to api/v1/media/2530982139120832265/info/: 429 Too Many Requests [retrying; skip with ^C]\n",
      "Number of requests within last 10/11/20/22/30/60 minutes grouped by type:\n",
      "                              other:    0    0    0    0    1    4\n",
      "   2b0673e0dc4580674a88d426fe00ea90:    5    5    7    7   43  247\n",
      " *                           iphone:   24   24   34   40   91  287\n",
      "Instagram responded with HTTP error \"429 - Too Many Requests\". Please\n",
      "do not run multiple instances of Instaloader in parallel or within\n",
      "short sequence. Also, do not use any Instagram App while Instaloader\n",
      "is running.\n",
      "The request will be retried in 18 seconds, at 16:31.\n",
      "JSON Query to api/v1/media/2530982139120832265/info/: 429 Too Many Requests Unable to fetch high quality image version of <Post CMf2tiHJ88J>.\n",
      "JSON Query to api/v1/media/2530982049345213446/info/: 429 Too Many Requests [retrying; skip with ^C]\n",
      "Number of requests within last 10/11/20/22/30/60 minutes grouped by type:\n",
      "                              other:    0    0    0    0    1    4\n",
      "   2b0673e0dc4580674a88d426fe00ea90:    6    6    8    8   41  247\n",
      " *                           iphone:   26   26   35   41   90  287\n",
      "Instagram responded with HTTP error \"429 - Too Many Requests\". Please\n",
      "do not run multiple instances of Instaloader in parallel or within\n",
      "short sequence. Also, do not use any Instagram App while Instaloader\n",
      "is running.\n",
      "The request will be retried in 27 seconds, at 16:32.\n",
      "JSON Query to api/v1/media/2530982049345213446/info/: 429 Too Many Requests [retrying; skip with ^C]\n",
      "Number of requests within last 10/11/20/22/30/60 minutes grouped by type:\n",
      "                              other:    0    0    0    0    1    4\n",
      "   2b0673e0dc4580674a88d426fe00ea90:    6    6    8    8   38  242\n",
      " *                           iphone:   27   27   33   40   87  284\n",
      "Instagram responded with HTTP error \"429 - Too Many Requests\". Please\n",
      "do not run multiple instances of Instaloader in parallel or within\n",
      "short sequence. Also, do not use any Instagram App while Instaloader\n",
      "is running.\n",
      "The request will be retried in 21 seconds, at 16:32.\n",
      "JSON Query to api/v1/media/2530982049345213446/info/: 429 Too Many Requests Unable to fetch high quality image version of <Post CMf2sOgHJQG>.\n",
      "JSON Query to api/v1/media/2530981725409729193/info/: 429 Too Many Requests [retrying; skip with ^C]\n",
      "Number of requests within last 10/11/20/22/30/60 minutes grouped by type:\n",
      "                              other:    0    0    0    0    1    4\n",
      "   2b0673e0dc4580674a88d426fe00ea90:    7    7    8    9   36  237\n",
      " *                           iphone:   29   29   34   41   86  279\n",
      "Instagram responded with HTTP error \"429 - Too Many Requests\". Please\n",
      "do not run multiple instances of Instaloader in parallel or within\n",
      "short sequence. Also, do not use any Instagram App while Instaloader\n",
      "is running.\n",
      "The request will be retried in 20 seconds, at 16:32.\n",
      "JSON Query to api/v1/media/2530981725409729193/info/: 429 Too Many Requests [retrying; skip with ^C]\n",
      "Number of requests within last 10/11/20/22/30/60 minutes grouped by type:\n",
      "                              other:    0    0    0    0    1    4\n",
      "   2b0673e0dc4580674a88d426fe00ea90:    7    7    8    9   33  233\n",
      " *                           iphone:   30   30   34   41   84  276\n",
      "Instagram responded with HTTP error \"429 - Too Many Requests\". Please\n",
      "do not run multiple instances of Instaloader in parallel or within\n",
      "short sequence. Also, do not use any Instagram App while Instaloader\n",
      "is running.\n",
      "The request will be retried in 22 seconds, at 16:33.\n",
      "JSON Query to api/v1/media/2530981725409729193/info/: 429 Too Many Requests Unable to fetch high quality image version of <Post CMf2ng0DVqp>.\n",
      "JSON Query to api/v1/media/2530981283332510774/info/: 429 Too Many Requests [retrying; skip with ^C]\n",
      "Number of requests within last 10/11/20/22/30/60 minutes grouped by type:\n",
      "                              other:    0    0    0    0    1    4\n",
      "   2b0673e0dc4580674a88d426fe00ea90:    8    8    8   10   29  230\n",
      " *                           iphone:   32   32   34   41   81  274\n",
      "Instagram responded with HTTP error \"429 - Too Many Requests\". Please\n",
      "do not run multiple instances of Instaloader in parallel or within\n",
      "short sequence. Also, do not use any Instagram App while Instaloader\n",
      "is running.\n",
      "The request will be retried in 20 seconds, at 16:33.\n",
      "JSON Query to api/v1/media/2530981283332510774/info/: 429 Too Many Requests [retrying; skip with ^C]\n",
      "Number of requests within last 10/11/20/22/30/60 minutes grouped by type:\n",
      "                              other:    0    0    0    0    1    4\n",
      "   2b0673e0dc4580674a88d426fe00ea90:    8    8    8   10   24  224\n",
      " *                           iphone:   33   33   33   40   77  270\n",
      "Instagram responded with HTTP error \"429 - Too Many Requests\". Please\n",
      "do not run multiple instances of Instaloader in parallel or within\n",
      "short sequence. Also, do not use any Instagram App while Instaloader\n",
      "is running.\n",
      "The request will be retried in 27 seconds, at 16:34.\n",
      "JSON Query to api/v1/media/2530981283332510774/info/: 429 Too Many Requests Unable to fetch high quality image version of <Post CMf2hFGMlQ2>.\n",
      "JSON Query to api/v1/media/2530980856846438395/info/: 429 Too Many Requests [retrying; skip with ^C]\n",
      "Number of requests within last 10/11/20/22/30/60 minutes grouped by type:\n",
      "                              other:    0    0    0    0    1    4\n",
      "   2b0673e0dc4580674a88d426fe00ea90:    9    9    9   11   19  219\n",
      " *                           iphone:   35   35   35   41   74  267\n",
      "Instagram responded with HTTP error \"429 - Too Many Requests\". Please\n",
      "do not run multiple instances of Instaloader in parallel or within\n",
      "short sequence. Also, do not use any Instagram App while Instaloader\n",
      "is running.\n",
      "The request will be retried in 19 seconds, at 16:34.\n",
      "JSON Query to api/v1/media/2530980856846438395/info/: 429 Too Many Requests [retrying; skip with ^C]\n",
      "Number of requests within last 10/11/20/22/30/60 minutes grouped by type:\n",
      "                              other:    0    0    0    0    0    4\n",
      "   2b0673e0dc4580674a88d426fe00ea90:    9    9    9   10   14  217\n",
      " *                           iphone:   36   36   36   40   69  265\n",
      "Instagram responded with HTTP error \"429 - Too Many Requests\". Please\n",
      "do not run multiple instances of Instaloader in parallel or within\n",
      "short sequence. Also, do not use any Instagram App while Instaloader\n",
      "is running.\n",
      "The request will be retried in 27 seconds, at 16:35.\n",
      "JSON Query to api/v1/media/2530980856846438395/info/: 429 Too Many Requests Unable to fetch high quality image version of <Post CMf2a35pU_7>.\n",
      "JSON Query to api/v1/media/2530980851777457169/info/: 429 Too Many Requests [retrying; skip with ^C]\n",
      "Number of requests within last 10/11/20/22/30/60 minutes grouped by type:\n",
      "                              other:    0    0    0    0    0    4\n",
      "   2b0673e0dc4580674a88d426fe00ea90:   10   10   10   11   13  211\n",
      " *                           iphone:   35   38   38   41   69  262\n",
      "Instagram responded with HTTP error \"429 - Too Many Requests\". Please\n",
      "do not run multiple instances of Instaloader in parallel or within\n",
      "short sequence. Also, do not use any Instagram App while Instaloader\n",
      "is running.\n",
      "The request will be retried in 29 seconds, at 16:35.\n",
      "JSON Query to api/v1/media/2530980851777457169/info/: 429 Too Many Requests [retrying; skip with ^C]\n",
      "Number of requests within last 10/11/20/22/30/60 minutes grouped by type:\n",
      "                              other:    0    0    0    0    0    4\n",
      "   2b0673e0dc4580674a88d426fe00ea90:   10   10   10   10   13  207\n",
      " *                           iphone:   34   39   39   40   69  259\n",
      "Instagram responded with HTTP error \"429 - Too Many Requests\". Please\n",
      "do not run multiple instances of Instaloader in parallel or within\n",
      "short sequence. Also, do not use any Instagram App while Instaloader\n",
      "is running.\n",
      "The request will be retried in 21 seconds, at 16:36.\n"
     ]
    },
    {
     "name": "stderr",
     "output_type": "stream",
     "text": [
      "JSON Query to api/v1/media/2530980851777457169/info/: 429 Too Many Requests Unable to fetch high quality image version of <Post CMf2azLgswR>.\n",
      "JSON Query to api/v1/media/2530980851777457169/info/: 429 Too Many Requests [retrying; skip with ^C]\n",
      "Number of requests within last 10/11/20/22/30/60 minutes grouped by type:\n",
      "                              other:    0    0    0    0    0    3\n",
      "   2b0673e0dc4580674a88d426fe00ea90:   10   10   10   10   13  201\n",
      " *                           iphone:   35   38   41   41   68  256\n",
      "Instagram responded with HTTP error \"429 - Too Many Requests\". Please\n",
      "do not run multiple instances of Instaloader in parallel or within\n",
      "short sequence. Also, do not use any Instagram App while Instaloader\n",
      "is running.\n",
      "The request will be retried in 42 seconds, at 16:36.\n",
      "JSON Query to api/v1/media/2530980851777457169/info/: 429 Too Many Requests [retrying; skip with ^C]\n",
      "Number of requests within last 10/11/20/22/30/60 minutes grouped by type:\n",
      "                              other:    0    0    0    0    0    3\n",
      "   2b0673e0dc4580674a88d426fe00ea90:   10   10   10   10   13  194\n",
      " *                           iphone:   33   37   42   42   67  251\n",
      "Instagram responded with HTTP error \"429 - Too Many Requests\". Please\n",
      "do not run multiple instances of Instaloader in parallel or within\n",
      "short sequence. Also, do not use any Instagram App while Instaloader\n",
      "is running.\n",
      "The request will be retried in 31 seconds, at 16:37.\n",
      "JSON Query to api/v1/media/2530980851777457169/info/: 429 Too Many Requests Unable to fetch high quality image version of <Post CMf2azLgswR>.\n",
      "JSON Query to api/v1/media/2530980851777457169/info/: 429 Too Many Requests [retrying; skip with ^C]\n",
      "Number of requests within last 10/11/20/22/30/60 minutes grouped by type:\n",
      "                              other:    0    0    0    0    0    3\n",
      "   2b0673e0dc4580674a88d426fe00ea90:    9   10   10   10   13  191\n",
      " *                           iphone:   33   37   44   44   67  249\n",
      "Instagram responded with HTTP error \"429 - Too Many Requests\". Please\n",
      "do not run multiple instances of Instaloader in parallel or within\n",
      "short sequence. Also, do not use any Instagram App while Instaloader\n",
      "is running.\n",
      "The request will be retried in 19 seconds, at 16:37.\n",
      "JSON Query to api/v1/media/2530980851777457169/info/: 429 Too Many Requests [retrying; skip with ^C]\n",
      "Number of requests within last 10/11/20/22/30/60 minutes grouped by type:\n",
      "                              other:    0    0    0    0    0    3\n",
      "   2b0673e0dc4580674a88d426fe00ea90:    9   10   10   10   13  188\n",
      " *                           iphone:   33   37   45   45   67  248\n",
      "Instagram responded with HTTP error \"429 - Too Many Requests\". Please\n",
      "do not run multiple instances of Instaloader in parallel or within\n",
      "short sequence. Also, do not use any Instagram App while Instaloader\n",
      "is running.\n",
      "The request will be retried in 23 seconds, at 16:38.\n",
      "JSON Query to api/v1/media/2530980851777457169/info/: 429 Too Many Requests Unable to fetch high quality image version of <Post CMf2azLgswR>.\n",
      "JSON Query to api/v1/media/2530980759790897578/info/: 429 Too Many Requests [retrying; skip with ^C]\n",
      "Number of requests within last 10/11/20/22/30/60 minutes grouped by type:\n",
      "                              other:    0    0    0    0    0    3\n",
      "   2b0673e0dc4580674a88d426fe00ea90:    9   10   11   11   14  185\n",
      " *                           iphone:   33   36   47   47   66  245\n",
      "Instagram responded with HTTP error \"429 - Too Many Requests\". Please\n",
      "do not run multiple instances of Instaloader in parallel or within\n",
      "short sequence. Also, do not use any Instagram App while Instaloader\n",
      "is running.\n",
      "The request will be retried in 44 seconds, at 16:38.\n",
      "JSON Query to api/v1/media/2530980759790897578/info/: 429 Too Many Requests [retrying; skip with ^C]\n",
      "Number of requests within last 10/11/20/22/30/60 minutes grouped by type:\n",
      "                              other:    0    0    0    0    0    3\n",
      "   2b0673e0dc4580674a88d426fe00ea90:    9    9   11   11   14  180\n",
      " *                           iphone:   33   34   48   48   66  241\n",
      "Instagram responded with HTTP error \"429 - Too Many Requests\". Please\n",
      "do not run multiple instances of Instaloader in parallel or within\n",
      "short sequence. Also, do not use any Instagram App while Instaloader\n",
      "is running.\n",
      "The request will be retried in 23 seconds, at 16:39.\n",
      "JSON Query to api/v1/media/2530980759790897578/info/: 429 Too Many Requests Unable to fetch high quality image version of <Post CMf2Zdgr0mq>.\n"
     ]
    },
    {
     "data": {
      "application/vnd.jupyter.widget-view+json": {
       "model_id": "ef352427c64e4f10a244e588a76aa1c5",
       "version_major": 2,
       "version_minor": 0
      },
      "text/plain": [
       "HBox(children=(FloatProgress(value=0.0, description='instagram images scrapping bar', max=20.0, style=Progress…"
      ]
     },
     "metadata": {},
     "output_type": "display_data"
    },
    {
     "name": "stderr",
     "output_type": "stream",
     "text": [
      "JSON Query to api/v1/media/2530980599248689181/info/: 429 Too Many Requests [retrying; skip with ^C]\n",
      "Number of requests within last 10/11/20/22/30/60 minutes grouped by type:\n",
      "                              other:    0    0    0    0    0    3\n",
      "   2b0673e0dc4580674a88d426fe00ea90:    9   10   12   12   14  174\n",
      " *                           iphone:   33   35   50   50   66  236\n",
      "Instagram responded with HTTP error \"429 - Too Many Requests\". Please\n",
      "do not run multiple instances of Instaloader in parallel or within\n",
      "short sequence. Also, do not use any Instagram App while Instaloader\n",
      "is running.\n",
      "The request will be retried in 32 seconds, at 16:40.\n",
      "JSON Query to api/v1/media/2530980599248689181/info/: 429 Too Many Requests [retrying; skip with ^C]\n",
      "Number of requests within last 10/11/20/22/30/60 minutes grouped by type:\n",
      "                              other:    0    0    0    0    0    3\n",
      "   2b0673e0dc4580674a88d426fe00ea90:    8   10   12   12   14  169\n",
      " *                           iphone:   31   35   51   51   66  234\n",
      "Instagram responded with HTTP error \"429 - Too Many Requests\". Please\n",
      "do not run multiple instances of Instaloader in parallel or within\n",
      "short sequence. Also, do not use any Instagram App while Instaloader\n",
      "is running.\n",
      "The request will be retried in 20 seconds, at 16:40.\n",
      "JSON Query to api/v1/media/2530980599248689181/info/: 429 Too Many Requests Unable to fetch high quality image version of <Post CMf2XH_n5gd>.\n",
      "JSON Query to api/v1/media/2530980586638836139/info/: 429 Too Many Requests [retrying; skip with ^C]\n",
      "Number of requests within last 10/11/20/22/30/60 minutes grouped by type:\n",
      "                              other:    0    0    0    0    0    3\n",
      "   2b0673e0dc4580674a88d426fe00ea90:    9   10   13   13   15  164\n",
      " *                           iphone:   32   36   53   53   66  230\n",
      "Instagram responded with HTTP error \"429 - Too Many Requests\". Please\n",
      "do not run multiple instances of Instaloader in parallel or within\n",
      "short sequence. Also, do not use any Instagram App while Instaloader\n",
      "is running.\n",
      "The request will be retried in 19 seconds, at 16:40.\n",
      "JSON Query to api/v1/media/2530980586638836139/info/: 429 Too Many Requests [retrying; skip with ^C]\n",
      "Number of requests within last 10/11/20/22/30/60 minutes grouped by type:\n",
      "                              other:    0    0    0    0    0    3\n",
      "   2b0673e0dc4580674a88d426fe00ea90:    9   10   13   13   15  160\n",
      " *                           iphone:   33   36   54   54   66  227\n",
      "Instagram responded with HTTP error \"429 - Too Many Requests\". Please\n",
      "do not run multiple instances of Instaloader in parallel or within\n",
      "short sequence. Also, do not use any Instagram App while Instaloader\n",
      "is running.\n",
      "The request will be retried in 24 seconds, at 16:41.\n",
      "JSON Query to api/v1/media/2530980586638836139/info/: 429 Too Many Requests Unable to fetch high quality image version of <Post CMf2W8QBIGr>.\n",
      "JSON Query to api/v1/media/2530980472907244113/info/: 429 Too Many Requests [retrying; skip with ^C]\n",
      "Number of requests within last 10/11/20/22/30/60 minutes grouped by type:\n",
      "                              other:    0    0    0    0    0    3\n",
      "   2b0673e0dc4580674a88d426fe00ea90:    9   10   14   14   16  156\n",
      " *                           iphone:   33   36   56   56   66  224\n",
      "Instagram responded with HTTP error \"429 - Too Many Requests\". Please\n",
      "do not run multiple instances of Instaloader in parallel or within\n",
      "short sequence. Also, do not use any Instagram App while Instaloader\n",
      "is running.\n",
      "The request will be retried in 26 seconds, at 16:41.\n",
      "JSON Query to api/v1/media/2530980472907244113/info/: 429 Too Many Requests [retrying; skip with ^C]\n",
      "Number of requests within last 10/11/20/22/30/60 minutes grouped by type:\n",
      "                              other:    0    0    0    0    0    3\n",
      "   2b0673e0dc4580674a88d426fe00ea90:    9   10   14   14   16  150\n",
      " *                           iphone:   33   36   57   57   66  220\n",
      "Instagram responded with HTTP error \"429 - Too Many Requests\". Please\n",
      "do not run multiple instances of Instaloader in parallel or within\n",
      "short sequence. Also, do not use any Instagram App while Instaloader\n",
      "is running.\n",
      "The request will be retried in 21 seconds, at 16:42.\n",
      "JSON Query to api/v1/media/2530980472907244113/info/: 429 Too Many Requests Unable to fetch high quality image version of <Post CMf2VSVFiJR>.\n",
      "JSON Query to api/v1/media/2530980283491246533/info/: 429 Too Many Requests [retrying; skip with ^C]\n",
      "Number of requests within last 10/11/20/22/30/60 minutes grouped by type:\n",
      "                              other:    0    0    0    0    0    3\n",
      "   2b0673e0dc4580674a88d426fe00ea90:    9   10   15   15   17  146\n",
      " *                           iphone:   33   36   59   59   65  216\n",
      "Instagram responded with HTTP error \"429 - Too Many Requests\". Please\n",
      "do not run multiple instances of Instaloader in parallel or within\n",
      "short sequence. Also, do not use any Instagram App while Instaloader\n",
      "is running.\n",
      "The request will be retried in 39 seconds, at 16:42.\n",
      "JSON Query to api/v1/media/2530980283491246533/info/: 429 Too Many Requests [retrying; skip with ^C]\n",
      "Number of requests within last 10/11/20/22/30/60 minutes grouped by type:\n",
      "                              other:    0    0    0    0    0    2\n",
      "   2b0673e0dc4580674a88d426fe00ea90:    8    9   15   15   16  139\n",
      " *                           iphone:   31   34   60   60   64  211\n",
      "Instagram responded with HTTP error \"429 - Too Many Requests\". Please\n",
      "do not run multiple instances of Instaloader in parallel or within\n",
      "short sequence. Also, do not use any Instagram App while Instaloader\n",
      "is running.\n",
      "The request will be retried in 29 seconds, at 16:43.\n",
      "JSON Query to api/v1/media/2530980283491246533/info/: 429 Too Many Requests Unable to fetch high quality image version of <Post CMf2Sh7A2HF>.\n",
      "JSON Query to api/v1/media/2530980283491246533/info/: 429 Too Many Requests [retrying; skip with ^C]\n",
      "Number of requests within last 10/11/20/22/30/60 minutes grouped by type:\n",
      "                              other:    0    0    0    0    0    2\n",
      "   2b0673e0dc4580674a88d426fe00ea90:    8    9   15   15   16  133\n",
      " *                           iphone:   32   35   62   62   65  207\n",
      "Instagram responded with HTTP error \"429 - Too Many Requests\". Please\n",
      "do not run multiple instances of Instaloader in parallel or within\n",
      "short sequence. Also, do not use any Instagram App while Instaloader\n",
      "is running.\n",
      "The request will be retried in 20 seconds, at 16:43.\n",
      "JSON Query to api/v1/media/2530980283491246533/info/: 429 Too Many Requests [retrying; skip with ^C]\n",
      "Number of requests within last 10/11/20/22/30/60 minutes grouped by type:\n",
      "                              other:    0    0    0    0    0    2\n",
      "   2b0673e0dc4580674a88d426fe00ea90:    7    8   15   15   15  128\n",
      " *                           iphone:   31   34   63   63   64  203\n",
      "Instagram responded with HTTP error \"429 - Too Many Requests\". Please\n",
      "do not run multiple instances of Instaloader in parallel or within\n",
      "short sequence. Also, do not use any Instagram App while Instaloader\n",
      "is running.\n",
      "The request will be retried in 24 seconds, at 16:44.\n",
      "JSON Query to api/v1/media/2530980283491246533/info/: 429 Too Many Requests Unable to fetch high quality image version of <Post CMf2Sh7A2HF>.\n",
      "JSON Query to api/v1/media/2530980283491246533/info/: 429 Too Many Requests [retrying; skip with ^C]\n",
      "Number of requests within last 10/11/20/22/30/60 minutes grouped by type:\n",
      "                              other:    0    0    0    0    0    2\n",
      "   2b0673e0dc4580674a88d426fe00ea90:    7    8   15   15   15  128\n",
      " *                           iphone:   32   35   65   65   65  205\n",
      "Instagram responded with HTTP error \"429 - Too Many Requests\". Please\n",
      "do not run multiple instances of Instaloader in parallel or within\n",
      "short sequence. Also, do not use any Instagram App while Instaloader\n",
      "is running.\n",
      "The request will be retried in 655 seconds, at 16:55.\n",
      "JSON Query to api/v1/media/2530980283491246533/info/: 429 Too Many Requests [retrying; skip with ^C]\n",
      "Number of requests within last 10/11/20/22/30/60 minutes grouped by type:\n",
      "                              other:    0    0    0    0    0    2\n",
      "   2b0673e0dc4580674a88d426fe00ea90:    0    0    6    8   15  120\n",
      " *                           iphone:    1    3   30   36   64  198\n",
      "Instagram responded with HTTP error \"429 - Too Many Requests\". Please\n",
      "do not run multiple instances of Instaloader in parallel or within\n",
      "short sequence. Also, do not use any Instagram App while Instaloader\n",
      "is running.\n",
      "The request will be retried in 19 seconds, at 16:55.\n"
     ]
    },
    {
     "name": "stderr",
     "output_type": "stream",
     "text": [
      "JSON Query to api/v1/media/2530980283491246533/info/: 429 Too Many Requests Unable to fetch high quality image version of <Post CMf2Sh7A2HF>.\n",
      "JSON Query to api/v1/media/2530979886553451204/info/: 429 Too Many Requests [retrying; skip with ^C]\n",
      "Number of requests within last 10/11/20/22/30/60 minutes grouped by type:\n",
      "                              other:    0    0    0    0    0    2\n",
      "   2b0673e0dc4580674a88d426fe00ea90:    1    1    6    8   16  117\n",
      " *                           iphone:    3    3   30   36   63  196\n",
      "Instagram responded with HTTP error \"429 - Too Many Requests\". Please\n",
      "do not run multiple instances of Instaloader in parallel or within\n",
      "short sequence. Also, do not use any Instagram App while Instaloader\n",
      "is running.\n",
      "The request will be retried in 36 seconds, at 16:56.\n",
      "JSON Query to api/v1/media/2530979886553451204/info/: 429 Too Many Requests [retrying; skip with ^C]\n",
      "Number of requests within last 10/11/20/22/30/60 minutes grouped by type:\n",
      "                              other:    0    0    0    0    0    2\n",
      "   2b0673e0dc4580674a88d426fe00ea90:    1    1    6    8   16  110\n",
      " *                           iphone:    4    4   28   36   63  191\n",
      "Instagram responded with HTTP error \"429 - Too Many Requests\". Please\n",
      "do not run multiple instances of Instaloader in parallel or within\n",
      "short sequence. Also, do not use any Instagram App while Instaloader\n",
      "is running.\n",
      "The request will be retried in 26 seconds, at 16:56.\n",
      "JSON Query to api/v1/media/2530979886553451204/info/: 429 Too Many Requests Unable to fetch high quality image version of <Post CMf2MwPrUrE>.\n",
      "JSON Query to api/v1/media/2530979405649742746/info/: 429 Too Many Requests [retrying; skip with ^C]\n",
      "Number of requests within last 10/11/20/22/30/60 minutes grouped by type:\n",
      "                              other:    0    0    0    0    0    2\n",
      "   2b0673e0dc4580674a88d426fe00ea90:    2    2    7    8   17  107\n",
      " *                           iphone:    6    6   30   35   63  188\n",
      "Instagram responded with HTTP error \"429 - Too Many Requests\". Please\n",
      "do not run multiple instances of Instaloader in parallel or within\n",
      "short sequence. Also, do not use any Instagram App while Instaloader\n",
      "is running.\n",
      "The request will be retried in 22 seconds, at 16:57.\n",
      "JSON Query to api/v1/media/2530979405649742746/info/: 429 Too Many Requests [retrying; skip with ^C]\n",
      "Number of requests within last 10/11/20/22/30/60 minutes grouped by type:\n",
      "                              other:    0    0    0    0    0    2\n",
      "   2b0673e0dc4580674a88d426fe00ea90:    2    2    7    8   17  102\n",
      " *                           iphone:    7    7   30   35   63  185\n",
      "Instagram responded with HTTP error \"429 - Too Many Requests\". Please\n",
      "do not run multiple instances of Instaloader in parallel or within\n",
      "short sequence. Also, do not use any Instagram App while Instaloader\n",
      "is running.\n",
      "The request will be retried in 19 seconds, at 16:57.\n",
      "JSON Query to api/v1/media/2530979405649742746/info/: 429 Too Many Requests Unable to fetch high quality image version of <Post CMf2FwXlQua>.\n",
      "JSON Query to api/v1/media/2530979405240289725/info/: 429 Too Many Requests [retrying; skip with ^C]\n",
      "Number of requests within last 10/11/20/22/30/60 minutes grouped by type:\n",
      "                              other:    0    0    0    0    0    2\n",
      "   2b0673e0dc4580674a88d426fe00ea90:    3    3    8    8   17   97\n",
      " *                           iphone:    9    9   30   36   62  181\n",
      "Instagram responded with HTTP error \"429 - Too Many Requests\". Please\n",
      "do not run multiple instances of Instaloader in parallel or within\n",
      "short sequence. Also, do not use any Instagram App while Instaloader\n",
      "is running.\n",
      "The request will be retried in 37 seconds, at 16:58.\n",
      "JSON Query to api/v1/media/2530979405240289725/info/: 429 Too Many Requests [retrying; skip with ^C]\n",
      "Number of requests within last 10/11/20/22/30/60 minutes grouped by type:\n",
      "                              other:    0    0    0    0    0    2\n",
      "   2b0673e0dc4580674a88d426fe00ea90:    3    3    7    8   16   89\n",
      " *                           iphone:   10   10   28   34   61  174\n",
      "Instagram responded with HTTP error \"429 - Too Many Requests\". Please\n",
      "do not run multiple instances of Instaloader in parallel or within\n",
      "short sequence. Also, do not use any Instagram App while Instaloader\n",
      "is running.\n",
      "The request will be retried in 21 seconds, at 16:58.\n",
      "JSON Query to api/v1/media/2530979405240289725/info/: 429 Too Many Requests Unable to fetch high quality image version of <Post CMf2Fv_LUm9>.\n",
      "JSON Query to api/v1/media/2530979367305553756/info/: 429 Too Many Requests [retrying; skip with ^C]\n",
      "Number of requests within last 10/11/20/22/30/60 minutes grouped by type:\n",
      "                              other:    0    0    0    0    0    2\n",
      "   2b0673e0dc4580674a88d426fe00ea90:    4    4    8    9   17   90\n",
      " *                           iphone:   12   12   30   36   62  175\n",
      "Instagram responded with HTTP error \"429 - Too Many Requests\". Please\n",
      "do not run multiple instances of Instaloader in parallel or within\n",
      "short sequence. Also, do not use any Instagram App while Instaloader\n",
      "is running.\n",
      "The request will be retried in 40 seconds, at 16:59.\n",
      "JSON Query to api/v1/media/2530979367305553756/info/: 429 Too Many Requests [retrying; skip with ^C]\n",
      "Number of requests within last 10/11/20/22/30/60 minutes grouped by type:\n",
      "                              other:    0    0    0    0    0    1\n",
      "   2b0673e0dc4580674a88d426fe00ea90:    4    4    8    9   16   84\n",
      " *                           iphone:   13   13   30   36   61  170\n",
      "Instagram responded with HTTP error \"429 - Too Many Requests\". Please\n",
      "do not run multiple instances of Instaloader in parallel or within\n",
      "short sequence. Also, do not use any Instagram App while Instaloader\n",
      "is running.\n",
      "The request will be retried in 30 seconds, at 16:59.\n",
      "JSON Query to api/v1/media/2530978616239249459/info/: 429 Too Many Requests [retrying; skip with ^C]\n",
      "Number of requests within last 10/11/20/22/30/60 minutes grouped by type:\n",
      "                              other:    0    0    0    0    0    1\n",
      "   2b0673e0dc4580674a88d426fe00ea90:    6    6    7   10   16   60\n",
      " *                           iphone:   19   19   28   36   61  151\n",
      "Instagram responded with HTTP error \"429 - Too Many Requests\". Please\n",
      "do not run multiple instances of Instaloader in parallel or within\n",
      "short sequence. Also, do not use any Instagram App while Instaloader\n",
      "is running.\n",
      "The request will be retried in 22 seconds, at 17:01.\n",
      "JSON Query to api/v1/media/2530978616239249459/info/: 429 Too Many Requests Unable to fetch high quality image version of <Post CMf16RLDNgz>.\n",
      "JSON Query to api/v1/media/2530978533664065829/info/: 429 Too Many Requests [retrying; skip with ^C]\n",
      "Number of requests within last 10/11/20/22/30/60 minutes grouped by type:\n",
      "                              other:    0    0    0    0    0    1\n",
      "   2b0673e0dc4580674a88d426fe00ea90:    7    7    8   10   16   57\n",
      " *                           iphone:   21   21   29   36   60  150\n",
      "Instagram responded with HTTP error \"429 - Too Many Requests\". Please\n",
      "do not run multiple instances of Instaloader in parallel or within\n",
      "short sequence. Also, do not use any Instagram App while Instaloader\n",
      "is running.\n",
      "The request will be retried in 45 seconds, at 17:02.\n",
      "JSON Query to api/v1/media/2530978533664065829/info/: 429 Too Many Requests [retrying; skip with ^C]\n",
      "Number of requests within last 10/11/20/22/30/60 minutes grouped by type:\n",
      "                              other:    0    0    0    0    0    1\n",
      "   2b0673e0dc4580674a88d426fe00ea90:    7    7    7    9   16   51\n",
      " *                           iphone:   22   22   28   34   60  145\n",
      "Instagram responded with HTTP error \"429 - Too Many Requests\". Please\n",
      "do not run multiple instances of Instaloader in parallel or within\n",
      "short sequence. Also, do not use any Instagram App while Instaloader\n",
      "is running.\n",
      "The request will be retried in 21 seconds, at 17:02.\n",
      "JSON Query to api/v1/media/2530978533664065829/info/: 429 Too Many Requests Unable to fetch high quality image version of <Post CMf15ERL4kl>.\n",
      "JSON Query to api/v1/media/2530978481862137506/info/: 429 Too Many Requests [retrying; skip with ^C]\n",
      "Number of requests within last 10/11/20/22/30/60 minutes grouped by type:\n",
      "                              other:    0    0    0    0    0    1\n",
      "   2b0673e0dc4580674a88d426fe00ea90:    8    8    8   10   16   48\n",
      " *                           iphone:   24   24   29   35   59  143\n",
      "Instagram responded with HTTP error \"429 - Too Many Requests\". Please\n",
      "do not run multiple instances of Instaloader in parallel or within\n",
      "short sequence. Also, do not use any Instagram App while Instaloader\n",
      "is running.\n",
      "The request will be retried in 42 seconds, at 17:03.\n"
     ]
    },
    {
     "name": "stderr",
     "output_type": "stream",
     "text": [
      "JSON Query to api/v1/media/2530978481862137506/info/: 429 Too Many Requests [retrying; skip with ^C]\n",
      "Number of requests within last 10/11/20/22/30/60 minutes grouped by type:\n",
      "                              other:    0    0    0    0    0    1\n",
      "   2b0673e0dc4580674a88d426fe00ea90:    8    8    8    9   15   40\n",
      " *                           iphone:   25   25   28   33   58  136\n",
      "Instagram responded with HTTP error \"429 - Too Many Requests\". Please\n",
      "do not run multiple instances of Instaloader in parallel or within\n",
      "short sequence. Also, do not use any Instagram App while Instaloader\n",
      "is running.\n",
      "The request will be retried in 25 seconds, at 17:04.\n",
      "JSON Query to api/v1/media/2530978481862137506/info/: 429 Too Many Requests Unable to fetch high quality image version of <Post CMf14UBjNai>.\n",
      "JSON Query to api/v1/media/2530978344783367611/info/: 429 Too Many Requests [retrying; skip with ^C]\n",
      "Number of requests within last 10/11/20/22/30/60 minutes grouped by type:\n",
      "                              other:    0    0    0    0    0    1\n",
      "   2b0673e0dc4580674a88d426fe00ea90:    9    9    9    9   16   35\n",
      " *                           iphone:   27   27   27   33   59  131\n",
      "Instagram responded with HTTP error \"429 - Too Many Requests\". Please\n",
      "do not run multiple instances of Instaloader in parallel or within\n",
      "short sequence. Also, do not use any Instagram App while Instaloader\n",
      "is running.\n",
      "The request will be retried in 22 seconds, at 17:04.\n",
      "JSON Query to api/v1/media/2530978344783367611/info/: 429 Too Many Requests [retrying; skip with ^C]\n",
      "Number of requests within last 10/11/20/22/30/60 minutes grouped by type:\n",
      "                              other:    0    0    0    0    0    0\n",
      "   2b0673e0dc4580674a88d426fe00ea90:    9    9    9    9   15   29\n",
      " *                           iphone:   28   28   28   34   58  126\n",
      "Instagram responded with HTTP error \"429 - Too Many Requests\". Please\n",
      "do not run multiple instances of Instaloader in parallel or within\n",
      "short sequence. Also, do not use any Instagram App while Instaloader\n",
      "is running.\n",
      "The request will be retried in 18 seconds, at 17:04.\n",
      "JSON Query to api/v1/media/2530978344783367611/info/: 429 Too Many Requests Unable to fetch high quality image version of <Post CMf12UXBM27>.\n",
      "JSON Query to api/v1/media/2530978344783367611/info/: 429 Too Many Requests [retrying; skip with ^C]\n",
      "Number of requests within last 10/11/20/22/30/60 minutes grouped by type:\n",
      "                              other:    0    0    0    0    0    0\n",
      "   2b0673e0dc4580674a88d426fe00ea90:    9    9    9    9   15   27\n",
      " *                           iphone:   30   30   30   35   59  126\n",
      "Instagram responded with HTTP error \"429 - Too Many Requests\". Please\n",
      "do not run multiple instances of Instaloader in parallel or within\n",
      "short sequence. Also, do not use any Instagram App while Instaloader\n",
      "is running.\n",
      "The request will be retried in 26 seconds, at 17:05.\n",
      "JSON Query to api/v1/media/2530978344783367611/info/: 429 Too Many Requests [retrying; skip with ^C]\n",
      "Number of requests within last 10/11/20/22/30/60 minutes grouped by type:\n",
      "                              other:    0    0    0    0    0    0\n",
      "   2b0673e0dc4580674a88d426fe00ea90:    8    9    9    9   14   27\n",
      " *                           iphone:   29   31   31   34   58  126\n",
      "Instagram responded with HTTP error \"429 - Too Many Requests\". Please\n",
      "do not run multiple instances of Instaloader in parallel or within\n",
      "short sequence. Also, do not use any Instagram App while Instaloader\n",
      "is running.\n",
      "The request will be retried in 29 seconds, at 17:06.\n",
      "JSON Query to api/v1/media/2530978344783367611/info/: 429 Too Many Requests Unable to fetch high quality image version of <Post CMf12UXBM27>.\n",
      "JSON Query to api/v1/media/2530978344783367611/info/: 429 Too Many Requests [retrying; skip with ^C]\n",
      "Number of requests within last 10/11/20/22/30/60 minutes grouped by type:\n",
      "                              other:    0    0    0    0    0    0\n",
      "   2b0673e0dc4580674a88d426fe00ea90:    8    9    9    9   14   27\n",
      " *                           iphone:   30   32   33   33   58  126\n",
      "Instagram responded with HTTP error \"429 - Too Many Requests\". Please\n",
      "do not run multiple instances of Instaloader in parallel or within\n",
      "short sequence. Also, do not use any Instagram App while Instaloader\n",
      "is running.\n",
      "The request will be retried in 19 seconds, at 17:06.\n",
      "JSON Query to api/v1/media/2530978344783367611/info/: 429 Too Many Requests [retrying; skip with ^C]\n",
      "Number of requests within last 10/11/20/22/30/60 minutes grouped by type:\n",
      "                              other:    0    0    0    0    0    0\n",
      "   2b0673e0dc4580674a88d426fe00ea90:    8    8    9    9   14   27\n",
      " *                           iphone:   30   31   34   34   58  125\n",
      "Instagram responded with HTTP error \"429 - Too Many Requests\". Please\n",
      "do not run multiple instances of Instaloader in parallel or within\n",
      "short sequence. Also, do not use any Instagram App while Instaloader\n",
      "is running.\n",
      "The request will be retried in 35 seconds, at 17:07.\n",
      "JSON Query to api/v1/media/2530978344783367611/info/: 429 Too Many Requests Unable to fetch high quality image version of <Post CMf12UXBM27>.\n",
      "JSON Query to api/v1/media/2530978308503887354/info/: 429 Too Many Requests [retrying; skip with ^C]\n",
      "Number of requests within last 10/11/20/22/30/60 minutes grouped by type:\n",
      "                              other:    0    0    0    0    0    0\n",
      "   2b0673e0dc4580674a88d426fe00ea90:    8    9   10   10   15   28\n",
      " *                           iphone:   29   32   36   36   59  125\n",
      "Instagram responded with HTTP error \"429 - Too Many Requests\". Please\n",
      "do not run multiple instances of Instaloader in parallel or within\n",
      "short sequence. Also, do not use any Instagram App while Instaloader\n",
      "is running.\n",
      "The request will be retried in 27 seconds, at 17:07.\n",
      "JSON Query to api/v1/media/2530978308503887354/info/: 429 Too Many Requests [retrying; skip with ^C]\n",
      "Number of requests within last 10/11/20/22/30/60 minutes grouped by type:\n",
      "                              other:    0    0    0    0    0    0\n",
      "   2b0673e0dc4580674a88d426fe00ea90:    7    9   10   10   15   28\n",
      " *                           iphone:   28   32   37   37   58  124\n",
      "Instagram responded with HTTP error \"429 - Too Many Requests\". Please\n",
      "do not run multiple instances of Instaloader in parallel or within\n",
      "short sequence. Also, do not use any Instagram App while Instaloader\n",
      "is running.\n",
      "The request will be retried in 21 seconds, at 17:08.\n",
      "JSON Query to api/v1/media/2530978308503887354/info/: 429 Too Many Requests Unable to fetch high quality image version of <Post CMf11ykl936>.\n",
      "JSON Query to api/v1/media/2530978308503887354/info/: 429 Too Many Requests [retrying; skip with ^C]\n",
      "Number of requests within last 10/11/20/22/30/60 minutes grouped by type:\n",
      "                              other:    0    0    0    0    0    0\n",
      "   2b0673e0dc4580674a88d426fe00ea90:    7    8   10   10   15   28\n",
      " *                           iphone:   30   32   39   39   59  125\n",
      "Instagram responded with HTTP error \"429 - Too Many Requests\". Please\n",
      "do not run multiple instances of Instaloader in parallel or within\n",
      "short sequence. Also, do not use any Instagram App while Instaloader\n",
      "is running.\n",
      "The request will be retried in 21 seconds, at 17:08.\n",
      "JSON Query to api/v1/media/2530978308503887354/info/: 429 Too Many Requests [retrying; skip with ^C]\n",
      "Number of requests within last 10/11/20/22/30/60 minutes grouped by type:\n",
      "                              other:    0    0    0    0    0    0\n",
      "   2b0673e0dc4580674a88d426fe00ea90:    7    8   10   10   14   28\n",
      " *                           iphone:   30   33   40   40   58  124\n",
      "Instagram responded with HTTP error \"429 - Too Many Requests\". Please\n",
      "do not run multiple instances of Instaloader in parallel or within\n",
      "short sequence. Also, do not use any Instagram App while Instaloader\n",
      "is running.\n",
      "The request will be retried in 46 seconds, at 17:09.\n",
      "JSON Query to api/v1/media/2530978308503887354/info/: 429 Too Many Requests Unable to fetch high quality image version of <Post CMf11ykl936>.\n",
      "JSON Query to api/v1/media/2530978308503887354/info/: 429 Too Many Requests [retrying; skip with ^C]\n",
      "Number of requests within last 10/11/20/22/30/60 minutes grouped by type:\n",
      "                              other:    0    0    0    0    0    0\n",
      "   2b0673e0dc4580674a88d426fe00ea90:    6    7   10   10   14   27\n",
      " *                           iphone:   29   32   42   42   59  123\n",
      "Instagram responded with HTTP error \"429 - Too Many Requests\". Please\n",
      "do not run multiple instances of Instaloader in parallel or within\n",
      "short sequence. Also, do not use any Instagram App while Instaloader\n",
      "is running.\n",
      "The request will be retried in 23 seconds, at 17:09.\n"
     ]
    },
    {
     "name": "stderr",
     "output_type": "stream",
     "text": [
      "JSON Query to api/v1/media/2530978308503887354/info/: 429 Too Many Requests [retrying; skip with ^C]\n",
      "Number of requests within last 10/11/20/22/30/60 minutes grouped by type:\n",
      "                              other:    0    0    0    0    0    0\n",
      "   2b0673e0dc4580674a88d426fe00ea90:    6    6   10   10   13   27\n",
      " *                           iphone:   30   31   43   43   58  123\n",
      "Instagram responded with HTTP error \"429 - Too Many Requests\". Please\n",
      "do not run multiple instances of Instaloader in parallel or within\n",
      "short sequence. Also, do not use any Instagram App while Instaloader\n",
      "is running.\n",
      "The request will be retried in 34 seconds, at 17:10.\n",
      "JSON Query to api/v1/media/2530978308503887354/info/: 429 Too Many Requests Unable to fetch high quality image version of <Post CMf11ykl936>.\n",
      "JSON Query to api/v1/media/2530978218184017963/info/: 429 Too Many Requests [retrying; skip with ^C]\n",
      "Number of requests within last 10/11/20/22/30/60 minutes grouped by type:\n",
      "                              other:    0    0    0    0    0    0\n",
      "   2b0673e0dc4580674a88d426fe00ea90:    6    7   11   11   14   28\n",
      " *                           iphone:   29   32   45   45   58  123\n",
      "Instagram responded with HTTP error \"429 - Too Many Requests\". Please\n",
      "do not run multiple instances of Instaloader in parallel or within\n",
      "short sequence. Also, do not use any Instagram App while Instaloader\n",
      "is running.\n",
      "The request will be retried in 21 seconds, at 17:10.\n",
      "JSON Query to api/v1/media/2530978218184017963/info/: 429 Too Many Requests [retrying; skip with ^C]\n",
      "Number of requests within last 10/11/20/22/30/60 minutes grouped by type:\n",
      "                              other:    0    0    0    0    0    0\n",
      "   2b0673e0dc4580674a88d426fe00ea90:    6    7   11   11   13   28\n",
      " *                           iphone:   30   33   46   46   57  123\n",
      "Instagram responded with HTTP error \"429 - Too Many Requests\". Please\n",
      "do not run multiple instances of Instaloader in parallel or within\n",
      "short sequence. Also, do not use any Instagram App while Instaloader\n",
      "is running.\n",
      "The request will be retried in 44 seconds, at 17:11.\n",
      "JSON Query to api/v1/media/2530978218184017963/info/: 429 Too Many Requests Unable to fetch high quality image version of <Post CMf10edHAgr>.\n",
      "JSON Query to api/v1/media/2530977949665399917/info/: 429 Too Many Requests [retrying; skip with ^C]\n",
      "Number of requests within last 10/11/20/22/30/60 minutes grouped by type:\n",
      "                              other:    0    0    0    0    0    0\n",
      "   2b0673e0dc4580674a88d426fe00ea90:    6    7   12   12   13   29\n",
      " *                           iphone:   29   32   48   48   57  122\n",
      "Instagram responded with HTTP error \"429 - Too Many Requests\". Please\n",
      "do not run multiple instances of Instaloader in parallel or within\n",
      "short sequence. Also, do not use any Instagram App while Instaloader\n",
      "is running.\n",
      "The request will be retried in 26 seconds, at 17:11.\n",
      "JSON Query to api/v1/media/2530977949665399917/info/: 429 Too Many Requests [retrying; skip with ^C]\n",
      "Number of requests within last 10/11/20/22/30/60 minutes grouped by type:\n",
      "                              other:    0    0    0    0    0    0\n",
      "   2b0673e0dc4580674a88d426fe00ea90:    5    6   12   12   13   29\n",
      " *                           iphone:   28   31   49   49   57  121\n",
      "Instagram responded with HTTP error \"429 - Too Many Requests\". Please\n",
      "do not run multiple instances of Instaloader in parallel or within\n",
      "short sequence. Also, do not use any Instagram App while Instaloader\n",
      "is running.\n",
      "The request will be retried in 22 seconds, at 17:12.\n",
      "JSON Query to api/v1/media/2530977949665399917/info/: 429 Too Many Requests Unable to fetch high quality image version of <Post CMf1wkYJxRt>.\n",
      "JSON Query to api/v1/media/2530977522498544917/info/: 429 Too Many Requests [retrying; skip with ^C]\n",
      "Number of requests within last 10/11/20/22/30/60 minutes grouped by type:\n",
      "                              other:    0    0    0    0    0    0\n",
      "   2b0673e0dc4580674a88d426fe00ea90:    6    7   13   13   13   30\n",
      " *                           iphone:   30   32   51   51   57  122\n",
      "Instagram responded with HTTP error \"429 - Too Many Requests\". Please\n",
      "do not run multiple instances of Instaloader in parallel or within\n",
      "short sequence. Also, do not use any Instagram App while Instaloader\n",
      "is running.\n",
      "The request will be retried in 38 seconds, at 17:13.\n",
      "JSON Query to api/v1/media/2530977522498544917/info/: 429 Too Many Requests [retrying; skip with ^C]\n",
      "Number of requests within last 10/11/20/22/30/60 minutes grouped by type:\n",
      "                              other:    0    0    0    0    0    0\n",
      "   2b0673e0dc4580674a88d426fe00ea90:    5    6   13   13   13   29\n",
      " *                           iphone:   28   31   52   52   57  120\n",
      "Instagram responded with HTTP error \"429 - Too Many Requests\". Please\n",
      "do not run multiple instances of Instaloader in parallel or within\n",
      "short sequence. Also, do not use any Instagram App while Instaloader\n",
      "is running.\n",
      "The request will be retried in 30 seconds, at 17:13.\n",
      "JSON Query to api/v1/media/2530977522498544917/info/: 429 Too Many Requests Unable to fetch high quality image version of <Post CMf1qWjBiUV>.\n",
      "JSON Query to api/v1/media/2530977282986921328/info/: 429 Too Many Requests [retrying; skip with ^C]\n",
      "Number of requests within last 10/11/20/22/30/60 minutes grouped by type:\n",
      "                              other:    0    0    0    0    0    0\n",
      "   2b0673e0dc4580674a88d426fe00ea90:    6    7   14   14   14   29\n",
      " *                           iphone:   29   32   54   54   56  120\n",
      "Instagram responded with HTTP error \"429 - Too Many Requests\". Please\n",
      "do not run multiple instances of Instaloader in parallel or within\n",
      "short sequence. Also, do not use any Instagram App while Instaloader\n",
      "is running.\n",
      "The request will be retried in 40 seconds, at 17:14.\n",
      "JSON Query to api/v1/media/2530977282986921328/info/: 429 Too Many Requests [retrying; skip with ^C]\n",
      "Number of requests within last 10/11/20/22/30/60 minutes grouped by type:\n",
      "                              other:    0    0    0    0    0    0\n",
      "   2b0673e0dc4580674a88d426fe00ea90:    5    6   14   14   14   29\n",
      " *                           iphone:   28   31   55   55   55  120\n",
      "Instagram responded with HTTP error \"429 - Too Many Requests\". Please\n",
      "do not run multiple instances of Instaloader in parallel or within\n",
      "short sequence. Also, do not use any Instagram App while Instaloader\n",
      "is running.\n",
      "The request will be retried in 658 seconds, at 17:25.\n",
      "JSON Query to api/v1/media/2530977282986921328/info/: 429 Too Many Requests Unable to fetch high quality image version of <Post CMf1m3fBM1w>.\n",
      "JSON Query to api/v1/media/2530977192919135547/info/: 429 Too Many Requests [retrying; skip with ^C]\n",
      "Number of requests within last 10/11/20/22/30/60 minutes grouped by type:\n",
      "                              other:    0    0    0    0    0    0\n",
      "   2b0673e0dc4580674a88d426fe00ea90:    1    1    6    7   15   30\n",
      " *                           iphone:    2    2   27   33   55  119\n",
      "Instagram responded with HTTP error \"429 - Too Many Requests\". Please\n",
      "do not run multiple instances of Instaloader in parallel or within\n",
      "short sequence. Also, do not use any Instagram App while Instaloader\n",
      "is running.\n",
      "The request will be retried in 25 seconds, at 17:25.\n",
      "JSON Query to api/v1/media/2530977192919135547/info/: 429 Too Many Requests [retrying; skip with ^C]\n",
      "Number of requests within last 10/11/20/22/30/60 minutes grouped by type:\n",
      "                              other:    0    0    0    0    0    0\n",
      "   2b0673e0dc4580674a88d426fe00ea90:    1    1    6    7   14   30\n",
      " *                           iphone:    3    3   27   33   55  117\n",
      "Instagram responded with HTTP error \"429 - Too Many Requests\". Please\n",
      "do not run multiple instances of Instaloader in parallel or within\n",
      "short sequence. Also, do not use any Instagram App while Instaloader\n",
      "is running.\n",
      "The request will be retried in 38 seconds, at 17:26.\n",
      "JSON Query to api/v1/media/2530977192919135547/info/: 429 Too Many Requests Unable to fetch high quality image version of <Post CMf1ljmj3U7>.\n",
      "JSON Query to api/v1/media/2530977192919135547/info/: 429 Too Many Requests [retrying; skip with ^C]\n",
      "Number of requests within last 10/11/20/22/30/60 minutes grouped by type:\n",
      "                              other:    0    0    0    0    0    0\n",
      "   2b0673e0dc4580674a88d426fe00ea90:    1    1    6    6   14   30\n",
      " *                           iphone:    5    5   26   33   56  117\n",
      "Instagram responded with HTTP error \"429 - Too Many Requests\". Please\n",
      "do not run multiple instances of Instaloader in parallel or within\n",
      "short sequence. Also, do not use any Instagram App while Instaloader\n",
      "is running.\n",
      "The request will be retried in 25 seconds, at 17:26.\n"
     ]
    },
    {
     "name": "stderr",
     "output_type": "stream",
     "text": [
      "JSON Query to api/v1/media/2530977192919135547/info/: 429 Too Many Requests [retrying; skip with ^C]\n",
      "Number of requests within last 10/11/20/22/30/60 minutes grouped by type:\n",
      "                              other:    0    0    0    0    0    0\n",
      "   2b0673e0dc4580674a88d426fe00ea90:    1    1    6    6   13   30\n",
      " *                           iphone:    6    6   27   31   55  117\n",
      "Instagram responded with HTTP error \"429 - Too Many Requests\". Please\n",
      "do not run multiple instances of Instaloader in parallel or within\n",
      "short sequence. Also, do not use any Instagram App while Instaloader\n",
      "is running.\n",
      "The request will be retried in 22 seconds, at 17:27.\n",
      "JSON Query to api/v1/media/2530977192919135547/info/: 429 Too Many Requests Unable to fetch high quality image version of <Post CMf1ljmj3U7>.\n",
      "JSON Query to api/v1/media/2530977094724069591/info/: 429 Too Many Requests [retrying; skip with ^C]\n",
      "Number of requests within last 10/11/20/22/30/60 minutes grouped by type:\n",
      "                              other:    0    0    0    0    0    0\n",
      "   2b0673e0dc4580674a88d426fe00ea90:    2    2    6    7   14   30\n",
      " *                           iphone:    8    8   27   33   56  117\n",
      "Instagram responded with HTTP error \"429 - Too Many Requests\". Please\n",
      "do not run multiple instances of Instaloader in parallel or within\n",
      "short sequence. Also, do not use any Instagram App while Instaloader\n",
      "is running.\n",
      "The request will be retried in 22 seconds, at 17:27.\n",
      "JSON Query to api/v1/media/2530977094724069591/info/: 429 Too Many Requests [retrying; skip with ^C]\n",
      "Number of requests within last 10/11/20/22/30/60 minutes grouped by type:\n",
      "                              other:    0    0    0    0    0    0\n",
      "   2b0673e0dc4580674a88d426fe00ea90:    2    2    6    7   13   30\n",
      " *                           iphone:    9    9   27   33   55  117\n",
      "Instagram responded with HTTP error \"429 - Too Many Requests\". Please\n",
      "do not run multiple instances of Instaloader in parallel or within\n",
      "short sequence. Also, do not use any Instagram App while Instaloader\n",
      "is running.\n",
      "The request will be retried in 40 seconds, at 17:28.\n",
      "JSON Query to api/v1/media/2530977094724069591/info/: 429 Too Many Requests Unable to fetch high quality image version of <Post CMf1kIJrajX>.\n"
     ]
    },
    {
     "data": {
      "application/vnd.jupyter.widget-view+json": {
       "model_id": "c0eb64e9ed18490fb059f05965fd7710",
       "version_major": 2,
       "version_minor": 0
      },
      "text/plain": [
       "HBox(children=(FloatProgress(value=0.0, description='instagram images scrapping bar', max=20.0, style=Progress…"
      ]
     },
     "metadata": {},
     "output_type": "display_data"
    },
    {
     "name": "stderr",
     "output_type": "stream",
     "text": [
      "JSON Query to api/v1/media/2530976310026973568/info/: 429 Too Many Requests [retrying; skip with ^C]\n",
      "Number of requests within last 10/11/20/22/30/60 minutes grouped by type:\n",
      "                              other:    0    0    0    0    0    0\n",
      "   2b0673e0dc4580674a88d426fe00ea90:    3    3    7    8   13   30\n",
      " *                           iphone:   11   11   26   32   54  116\n",
      "Instagram responded with HTTP error \"429 - Too Many Requests\". Please\n",
      "do not run multiple instances of Instaloader in parallel or within\n",
      "short sequence. Also, do not use any Instagram App while Instaloader\n",
      "is running.\n",
      "The request will be retried in 55 seconds, at 17:29.\n",
      "JSON Query to api/v1/media/2530976310026973568/info/: 429 Too Many Requests [retrying; skip with ^C]\n",
      "Number of requests within last 10/11/20/22/30/60 minutes grouped by type:\n",
      "                              other:    0    0    0    0    0    0\n",
      "   2b0673e0dc4580674a88d426fe00ea90:    3    3    7    7   13   29\n",
      " *                           iphone:   12   12   25   31   54  114\n",
      "Instagram responded with HTTP error \"429 - Too Many Requests\". Please\n",
      "do not run multiple instances of Instaloader in parallel or within\n",
      "short sequence. Also, do not use any Instagram App while Instaloader\n",
      "is running.\n",
      "The request will be retried in 32 seconds, at 17:30.\n",
      "JSON Query to api/v1/media/2530976310026973568/info/: 429 Too Many Requests Unable to fetch high quality image version of <Post CMf1YtWFjGA>.\n",
      "JSON Query to api/v1/media/2530976240830856483/info/: 429 Too Many Requests [retrying; skip with ^C]\n",
      "Number of requests within last 10/11/20/22/30/60 minutes grouped by type:\n",
      "                              other:    0    0    0    0    0    0\n",
      "   2b0673e0dc4580674a88d426fe00ea90:    4    4    8    8   13   29\n",
      " *                           iphone:   14   14   26   30   54  114\n",
      "Instagram responded with HTTP error \"429 - Too Many Requests\". Please\n",
      "do not run multiple instances of Instaloader in parallel or within\n",
      "short sequence. Also, do not use any Instagram App while Instaloader\n",
      "is running.\n",
      "The request will be retried in 19 seconds, at 17:30.\n",
      "JSON Query to api/v1/media/2530976240830856483/info/: 429 Too Many Requests [retrying; skip with ^C]\n",
      "Number of requests within last 10/11/20/22/30/60 minutes grouped by type:\n",
      "                              other:    0    0    0    0    0    0\n",
      "   2b0673e0dc4580674a88d426fe00ea90:    4    4    7    8   13   29\n",
      " *                           iphone:   15   15   25   30   54  114\n",
      "Instagram responded with HTTP error \"429 - Too Many Requests\". Please\n",
      "do not run multiple instances of Instaloader in parallel or within\n",
      "short sequence. Also, do not use any Instagram App while Instaloader\n",
      "is running.\n",
      "The request will be retried in 23 seconds, at 17:31.\n",
      "JSON Query to api/v1/media/2530976240830856483/info/: 429 Too Many Requests Unable to fetch high quality image version of <Post CMf1Xs5rT0j>.\n",
      "JSON Query to api/v1/media/2530975938612504592/info/: 429 Too Many Requests [retrying; skip with ^C]\n",
      "Number of requests within last 10/11/20/22/30/60 minutes grouped by type:\n",
      "                              other:    0    0    0    0    0    0\n",
      "   2b0673e0dc4580674a88d426fe00ea90:    5    5    8    9   13   29\n",
      " *                           iphone:   17   17   26   32   54  114\n",
      "Instagram responded with HTTP error \"429 - Too Many Requests\". Please\n",
      "do not run multiple instances of Instaloader in parallel or within\n",
      "short sequence. Also, do not use any Instagram App while Instaloader\n",
      "is running.\n",
      "The request will be retried in 27 seconds, at 17:31.\n",
      "JSON Query to api/v1/media/2530975938612504592/info/: 429 Too Many Requests [retrying; skip with ^C]\n",
      "Number of requests within last 10/11/20/22/30/60 minutes grouped by type:\n",
      "                              other:    0    0    0    0    0    0\n",
      "   2b0673e0dc4580674a88d426fe00ea90:    5    5    7    9   13   29\n",
      " *                           iphone:   18   18   25   31   54  114\n",
      "Instagram responded with HTTP error \"429 - Too Many Requests\". Please\n",
      "do not run multiple instances of Instaloader in parallel or within\n",
      "short sequence. Also, do not use any Instagram App while Instaloader\n",
      "is running.\n",
      "The request will be retried in 23 seconds, at 17:31.\n",
      "JSON Query to api/v1/media/2530975938612504592/info/: 429 Too Many Requests Unable to fetch high quality image version of <Post CMf1TTcDygQ>.\n",
      "JSON Query to api/v1/media/2530975916332940927/info/: 429 Too Many Requests [retrying; skip with ^C]\n",
      "Number of requests within last 10/11/20/22/30/60 minutes grouped by type:\n",
      "                              other:    0    0    0    0    0    0\n",
      "   2b0673e0dc4580674a88d426fe00ea90:    6    6    8   10   13   29\n",
      " *                           iphone:   20   20   26   32   54  114\n",
      "Instagram responded with HTTP error \"429 - Too Many Requests\". Please\n",
      "do not run multiple instances of Instaloader in parallel or within\n",
      "short sequence. Also, do not use any Instagram App while Instaloader\n",
      "is running.\n",
      "The request will be retried in 47 seconds, at 17:32.\n",
      "JSON Query to api/v1/media/2530975916332940927/info/: 429 Too Many Requests [retrying; skip with ^C]\n",
      "Number of requests within last 10/11/20/22/30/60 minutes grouped by type:\n",
      "                              other:    0    0    0    0    0    0\n",
      "   2b0673e0dc4580674a88d426fe00ea90:    6    6    7    9   13   28\n",
      " *                           iphone:   21   21   25   30   54  112\n",
      "Instagram responded with HTTP error \"429 - Too Many Requests\". Please\n",
      "do not run multiple instances of Instaloader in parallel or within\n",
      "short sequence. Also, do not use any Instagram App while Instaloader\n",
      "is running.\n",
      "The request will be retried in 22 seconds, at 17:33.\n",
      "JSON Query to api/v1/media/2530975916332940927/info/: 429 Too Many Requests Unable to fetch high quality image version of <Post CMf1S-sF_5_>.\n",
      "JSON Query to api/v1/media/2530975916332940927/info/: 429 Too Many Requests [retrying; skip with ^C]\n",
      "Number of requests within last 10/11/20/22/30/60 minutes grouped by type:\n",
      "                              other:    0    0    0    0    0    0\n",
      "   2b0673e0dc4580674a88d426fe00ea90:    6    6    7    9   12   28\n",
      " *                           iphone:   23   23   26   32   54  113\n",
      "Instagram responded with HTTP error \"429 - Too Many Requests\". Please\n",
      "do not run multiple instances of Instaloader in parallel or within\n",
      "short sequence. Also, do not use any Instagram App while Instaloader\n",
      "is running.\n",
      "The request will be retried in 45 seconds, at 17:34.\n",
      "JSON Query to api/v1/media/2530975916332940927/info/: 429 Too Many Requests [retrying; skip with ^C]\n",
      "Number of requests within last 10/11/20/22/30/60 minutes grouped by type:\n",
      "                              other:    0    0    0    0    0    0\n",
      "   2b0673e0dc4580674a88d426fe00ea90:    6    6    6    8   12   27\n",
      " *                           iphone:   24   24   25   30   54  111\n",
      "Instagram responded with HTTP error \"429 - Too Many Requests\". Please\n",
      "do not run multiple instances of Instaloader in parallel or within\n",
      "short sequence. Also, do not use any Instagram App while Instaloader\n",
      "is running.\n",
      "The request will be retried in 25 seconds, at 17:34.\n",
      "JSON Query to api/v1/media/2530975916332940927/info/: 429 Too Many Requests Unable to fetch high quality image version of <Post CMf1S-sF_5_>.\n",
      "JSON Query to api/v1/media/2530975916332940927/info/: 429 Too Many Requests [retrying; skip with ^C]\n",
      "Number of requests within last 10/11/20/22/30/60 minutes grouped by type:\n",
      "                              other:    0    0    0    0    0    0\n",
      "   2b0673e0dc4580674a88d426fe00ea90:    6    6    6    7   11   26\n",
      " *                           iphone:   26   26   26   30   54  111\n",
      "Instagram responded with HTTP error \"429 - Too Many Requests\". Please\n",
      "do not run multiple instances of Instaloader in parallel or within\n",
      "short sequence. Also, do not use any Instagram App while Instaloader\n",
      "is running.\n",
      "The request will be retried in 28 seconds, at 17:34.\n",
      "JSON Query to api/v1/media/2530975916332940927/info/: 429 Too Many Requests [retrying; skip with ^C]\n",
      "Number of requests within last 10/11/20/22/30/60 minutes grouped by type:\n",
      "                              other:    0    0    0    0    0    0\n",
      "   2b0673e0dc4580674a88d426fe00ea90:    6    6    6    7   11   26\n",
      " *                           iphone:   27   27   27   31   54  111\n",
      "Instagram responded with HTTP error \"429 - Too Many Requests\". Please\n",
      "do not run multiple instances of Instaloader in parallel or within\n",
      "short sequence. Also, do not use any Instagram App while Instaloader\n",
      "is running.\n",
      "The request will be retried in 20 seconds, at 17:35.\n"
     ]
    },
    {
     "name": "stderr",
     "output_type": "stream",
     "text": [
      "JSON Query to api/v1/media/2530975916332940927/info/: 429 Too Many Requests Unable to fetch high quality image version of <Post CMf1S-sF_5_>.\n",
      "JSON Query to api/v1/media/2530975916332940927/info/: 429 Too Many Requests [retrying; skip with ^C]\n",
      "Number of requests within last 10/11/20/22/30/60 minutes grouped by type:\n",
      "                              other:    0    0    0    0    0    0\n",
      "   2b0673e0dc4580674a88d426fe00ea90:    6    6    6    7   11   25\n",
      " *                           iphone:   29   29   29   32   54  111\n",
      "Instagram responded with HTTP error \"429 - Too Many Requests\". Please\n",
      "do not run multiple instances of Instaloader in parallel or within\n",
      "short sequence. Also, do not use any Instagram App while Instaloader\n",
      "is running.\n",
      "The request will be retried in 30 seconds, at 17:35.\n",
      "JSON Query to api/v1/media/2530975916332940927/info/: 429 Too Many Requests [retrying; skip with ^C]\n",
      "Number of requests within last 10/11/20/22/30/60 minutes grouped by type:\n",
      "                              other:    0    0    0    0    0    0\n",
      "   2b0673e0dc4580674a88d426fe00ea90:    5    6    6    6   11   25\n",
      " *                           iphone:   28   30   30   31   54  111\n",
      "Instagram responded with HTTP error \"429 - Too Many Requests\". Please\n",
      "do not run multiple instances of Instaloader in parallel or within\n",
      "short sequence. Also, do not use any Instagram App while Instaloader\n",
      "is running.\n",
      "The request will be retried in 28 seconds, at 17:36.\n",
      "JSON Query to api/v1/media/2530975916332940927/info/: 429 Too Many Requests Unable to fetch high quality image version of <Post CMf1S-sF_5_>.\n",
      "JSON Query to api/v1/media/2530975916332940927/info/: 429 Too Many Requests [retrying; skip with ^C]\n",
      "Number of requests within last 10/11/20/22/30/60 minutes grouped by type:\n",
      "                              other:    0    0    0    0    0    0\n",
      "   2b0673e0dc4580674a88d426fe00ea90:    5    6    6    6   11   25\n",
      " *                           iphone:   29   31   32   33   54  111\n",
      "Instagram responded with HTTP error \"429 - Too Many Requests\". Please\n",
      "do not run multiple instances of Instaloader in parallel or within\n",
      "short sequence. Also, do not use any Instagram App while Instaloader\n",
      "is running.\n",
      "The request will be retried in 27 seconds, at 17:36.\n",
      "JSON Query to api/v1/media/2530975916332940927/info/: 429 Too Many Requests [retrying; skip with ^C]\n",
      "Number of requests within last 10/11/20/22/30/60 minutes grouped by type:\n",
      "                              other:    0    0    0    0    0    0\n",
      "   2b0673e0dc4580674a88d426fe00ea90:    5    5    6    6   11   25\n",
      " *                           iphone:   28   31   33   33   54  111\n",
      "Instagram responded with HTTP error \"429 - Too Many Requests\". Please\n",
      "do not run multiple instances of Instaloader in parallel or within\n",
      "short sequence. Also, do not use any Instagram App while Instaloader\n",
      "is running.\n",
      "The request will be retried in 37 seconds, at 17:37.\n",
      "JSON Query to api/v1/media/2530975916332940927/info/: 429 Too Many Requests Unable to fetch high quality image version of <Post CMf1S-sF_5_>.\n",
      "JSON Query to api/v1/media/2530975916332940927/info/: 429 Too Many Requests [retrying; skip with ^C]\n",
      "Number of requests within last 10/11/20/22/30/60 minutes grouped by type:\n",
      "                              other:    0    0    0    0    0    0\n",
      "   2b0673e0dc4580674a88d426fe00ea90:    4    5    6    6   10   25\n",
      " *                           iphone:   27   31   35   35   54  111\n",
      "Instagram responded with HTTP error \"429 - Too Many Requests\". Please\n",
      "do not run multiple instances of Instaloader in parallel or within\n",
      "short sequence. Also, do not use any Instagram App while Instaloader\n",
      "is running.\n",
      "The request will be retried in 28 seconds, at 17:38.\n",
      "JSON Query to api/v1/media/2530975916332940927/info/: 429 Too Many Requests [retrying; skip with ^C]\n",
      "Number of requests within last 10/11/20/22/30/60 minutes grouped by type:\n",
      "                              other:    0    0    0    0    0    0\n",
      "   2b0673e0dc4580674a88d426fe00ea90:    4    5    6    6   10   25\n",
      " *                           iphone:   27   31   36   36   54  111\n",
      "Instagram responded with HTTP error \"429 - Too Many Requests\". Please\n",
      "do not run multiple instances of Instaloader in parallel or within\n",
      "short sequence. Also, do not use any Instagram App while Instaloader\n",
      "is running.\n",
      "The request will be retried in 20 seconds, at 17:38.\n",
      "JSON Query to api/v1/media/2530975916332940927/info/: 429 Too Many Requests Unable to fetch high quality image version of <Post CMf1S-sF_5_>.\n",
      "JSON Query to api/v1/media/2530975916332940927/info/: 429 Too Many Requests [retrying; skip with ^C]\n",
      "Number of requests within last 10/11/20/22/30/60 minutes grouped by type:\n",
      "                              other:    0    0    0    0    0    0\n",
      "   2b0673e0dc4580674a88d426fe00ea90:    4    5    6    6   10   24\n",
      " *                           iphone:   29   32   38   38   54  111\n",
      "Instagram responded with HTTP error \"429 - Too Many Requests\". Please\n",
      "do not run multiple instances of Instaloader in parallel or within\n",
      "short sequence. Also, do not use any Instagram App while Instaloader\n",
      "is running.\n",
      "The request will be retried in 26 seconds, at 17:38.\n",
      "JSON Query to api/v1/media/2530975916332940927/info/: 429 Too Many Requests [retrying; skip with ^C]\n",
      "Number of requests within last 10/11/20/22/30/60 minutes grouped by type:\n",
      "                              other:    0    0    0    0    0    0\n",
      "   2b0673e0dc4580674a88d426fe00ea90:    3    4    6    6   10   24\n",
      " *                           iphone:   28   31   39   39   54  112\n",
      "Instagram responded with HTTP error \"429 - Too Many Requests\". Please\n",
      "do not run multiple instances of Instaloader in parallel or within\n",
      "short sequence. Also, do not use any Instagram App while Instaloader\n",
      "is running.\n",
      "The request will be retried in 46 seconds, at 17:39.\n",
      "JSON Query to api/v1/media/2530975916332940927/info/: 429 Too Many Requests Unable to fetch high quality image version of <Post CMf1S-sF_5_>.\n",
      "JSON Query to api/v1/media/2530975916332940927/info/: 429 Too Many Requests [retrying; skip with ^C]\n",
      "Number of requests within last 10/11/20/22/30/60 minutes grouped by type:\n",
      "                              other:    0    0    0    0    0    0\n",
      "   2b0673e0dc4580674a88d426fe00ea90:    3    3    6    6   10   23\n",
      " *                           iphone:   29   31   41   41   54  111\n",
      "Instagram responded with HTTP error \"429 - Too Many Requests\". Please\n",
      "do not run multiple instances of Instaloader in parallel or within\n",
      "short sequence. Also, do not use any Instagram App while Instaloader\n",
      "is running.\n",
      "The request will be retried in 22 seconds, at 17:40.\n",
      "JSON Query to api/v1/media/2530975916332940927/info/: 429 Too Many Requests [retrying; skip with ^C]\n",
      "Number of requests within last 10/11/20/22/30/60 minutes grouped by type:\n",
      "                              other:    0    0    0    0    0    0\n",
      "   2b0673e0dc4580674a88d426fe00ea90:    3    3    6    6   10   23\n",
      " *                           iphone:   30   31   42   42   54  111\n",
      "Instagram responded with HTTP error \"429 - Too Many Requests\". Please\n",
      "do not run multiple instances of Instaloader in parallel or within\n",
      "short sequence. Also, do not use any Instagram App while Instaloader\n",
      "is running.\n",
      "The request will be retried in 34 seconds, at 17:40.\n",
      "JSON Query to api/v1/media/2530975916332940927/info/: 429 Too Many Requests Unable to fetch high quality image version of <Post CMf1S-sF_5_>.\n",
      "JSON Query to api/v1/media/2530975916332940927/info/: 429 Too Many Requests [retrying; skip with ^C]\n",
      "Number of requests within last 10/11/20/22/30/60 minutes grouped by type:\n",
      "                              other:    0    0    0    0    0    0\n",
      "   2b0673e0dc4580674a88d426fe00ea90:    2    3    6    6    9   22\n",
      " *                           iphone:   30   32   44   44   54  111\n",
      "Instagram responded with HTTP error \"429 - Too Many Requests\". Please\n",
      "do not run multiple instances of Instaloader in parallel or within\n",
      "short sequence. Also, do not use any Instagram App while Instaloader\n",
      "is running.\n",
      "The request will be retried in 23 seconds, at 17:41.\n",
      "JSON Query to api/v1/media/2530975916332940927/info/: 429 Too Many Requests [retrying; skip with ^C]\n",
      "Number of requests within last 10/11/20/22/30/60 minutes grouped by type:\n",
      "                              other:    0    0    0    0    0    0\n",
      "   2b0673e0dc4580674a88d426fe00ea90:    2    3    6    6    9   22\n",
      " *                           iphone:   30   33   45   45   54  111\n",
      "Instagram responded with HTTP error \"429 - Too Many Requests\". Please\n",
      "do not run multiple instances of Instaloader in parallel or within\n",
      "short sequence. Also, do not use any Instagram App while Instaloader\n",
      "is running.\n",
      "The request will be retried in 42 seconds, at 17:41.\n"
     ]
    },
    {
     "name": "stderr",
     "output_type": "stream",
     "text": [
      "JSON Query to api/v1/media/2530975916332940927/info/: 429 Too Many Requests Unable to fetch high quality image version of <Post CMf1S-sF_5_>.\n",
      "JSON Query to api/v1/media/2530975916332940927/info/: 429 Too Many Requests [retrying; skip with ^C]\n",
      "Number of requests within last 10/11/20/22/30/60 minutes grouped by type:\n",
      "                              other:    0    0    0    0    0    0\n",
      "   2b0673e0dc4580674a88d426fe00ea90:    1    2    6    6    8   21\n",
      " *                           iphone:   29   32   47   47   54  110\n",
      "Instagram responded with HTTP error \"429 - Too Many Requests\". Please\n",
      "do not run multiple instances of Instaloader in parallel or within\n",
      "short sequence. Also, do not use any Instagram App while Instaloader\n",
      "is running.\n",
      "The request will be retried in 24 seconds, at 17:42.\n",
      "JSON Query to api/v1/media/2530975916332940927/info/: 429 Too Many Requests [retrying; skip with ^C]\n",
      "Number of requests within last 10/11/20/22/30/60 minutes grouped by type:\n",
      "                              other:    0    0    0    0    0    0\n",
      "   2b0673e0dc4580674a88d426fe00ea90:    0    1    6    6    8   20\n",
      " *                           iphone:   28   31   48   48   53  109\n",
      "Instagram responded with HTTP error \"429 - Too Many Requests\". Please\n",
      "do not run multiple instances of Instaloader in parallel or within\n",
      "short sequence. Also, do not use any Instagram App while Instaloader\n",
      "is running.\n",
      "The request will be retried in 24 seconds, at 17:42.\n",
      "JSON Query to api/v1/media/2530975916332940927/info/: 429 Too Many Requests Unable to fetch high quality image version of <Post CMf1S-sF_5_>.\n",
      "JSON Query to api/v1/media/2530975766933360152/info/: 429 Too Many Requests [retrying; skip with ^C]\n",
      "Number of requests within last 10/11/20/22/30/60 minutes grouped by type:\n",
      "                              other:    0    0    0    0    0    0\n",
      "   2b0673e0dc4580674a88d426fe00ea90:    1    2    7    7    8   21\n",
      " *                           iphone:   30   32   50   50   54  110\n",
      "Instagram responded with HTTP error \"429 - Too Many Requests\". Please\n",
      "do not run multiple instances of Instaloader in parallel or within\n",
      "short sequence. Also, do not use any Instagram App while Instaloader\n",
      "is running.\n",
      "The request will be retried in 37 seconds, at 17:43.\n",
      "JSON Query to api/v1/media/2530975766933360152/info/: 429 Too Many Requests [retrying; skip with ^C]\n",
      "Number of requests within last 10/11/20/22/30/60 minutes grouped by type:\n",
      "                              other:    0    0    0    0    0    0\n",
      "   2b0673e0dc4580674a88d426fe00ea90:    1    1    7    7    8   21\n",
      " *                           iphone:   28   31   51   51   54  109\n",
      "Instagram responded with HTTP error \"429 - Too Many Requests\". Please\n",
      "do not run multiple instances of Instaloader in parallel or within\n",
      "short sequence. Also, do not use any Instagram App while Instaloader\n",
      "is running.\n",
      "The request will be retried in 30 seconds, at 17:43.\n",
      "JSON Query to api/v1/media/2530975766933360152/info/: 429 Too Many Requests Unable to fetch high quality image version of <Post CMf1QzjL04Y>.\n",
      "JSON Query to api/v1/media/2530975758425675992/info/: 429 Too Many Requests [retrying; skip with ^C]\n",
      "Number of requests within last 10/11/20/22/30/60 minutes grouped by type:\n",
      "                              other:    0    0    0    0    0    0\n",
      "   2b0673e0dc4580674a88d426fe00ea90:    2    2    8    8    8   22\n",
      " *                           iphone:   30   32   53   53   54  110\n",
      "Instagram responded with HTTP error \"429 - Too Many Requests\". Please\n",
      "do not run multiple instances of Instaloader in parallel or within\n",
      "short sequence. Also, do not use any Instagram App while Instaloader\n",
      "is running.\n",
      "The request will be retried in 43 seconds, at 17:44.\n",
      "JSON Query to api/v1/media/2530975758425675992/info/: 429 Too Many Requests [retrying; skip with ^C]\n",
      "Number of requests within last 10/11/20/22/30/60 minutes grouped by type:\n",
      "                              other:    0    0    0    0    0    0\n",
      "   2b0673e0dc4580674a88d426fe00ea90:    2    2    8    8    8   22\n",
      " *                           iphone:   28   31   54   54   54  109\n",
      "Instagram responded with HTTP error \"429 - Too Many Requests\". Please\n",
      "do not run multiple instances of Instaloader in parallel or within\n",
      "short sequence. Also, do not use any Instagram App while Instaloader\n",
      "is running.\n",
      "The request will be retried in 654 seconds, at 17:55.\n"
     ]
    }
   ],
   "source": [
    "dir_name = 'tattoosketches_all'\n",
    "\n",
    "for _ in tqdm(range(10000)):\n",
    "    save_photos_batch(hashtag_iterable, 20, dir_name)\n",
    "#     upload_files_from_dir(dir_name, 'app:/insta/' + dir_name, y)\n",
    "#     clear_dir(dir_name)"
   ]
  },
  {
   "cell_type": "code",
   "execution_count": null,
   "metadata": {},
   "outputs": [],
   "source": []
  }
 ],
 "metadata": {
  "kernelspec": {
   "display_name": "local-venv",
   "language": "python",
   "name": "local-venv"
  },
  "language_info": {
   "codemirror_mode": {
    "name": "ipython",
    "version": 3
   },
   "file_extension": ".py",
   "mimetype": "text/x-python",
   "name": "python",
   "nbconvert_exporter": "python",
   "pygments_lexer": "ipython3",
   "version": "3.6.9"
  }
 },
 "nbformat": 4,
 "nbformat_minor": 4
}
